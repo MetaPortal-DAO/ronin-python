{
 "cells": [
  {
   "cell_type": "code",
   "execution_count": 4,
   "id": "ff0d477d-df8c-4fa9-8e33-7d06af0b8877",
   "metadata": {},
   "outputs": [],
   "source": [
    "import influxdb_client, os, time\n",
    "from influxdb import DataFrameClient\n",
    "from influxdb_client import InfluxDBClient, Point, WritePrecision\n",
    "from influxdb_client.client.write_api import SYNCHRONOUS\n",
    "\n",
    "token = \"RIZZsgptkpmFaqmapGn55oDyEDKVC9kDS1FkY7iLNLUINCcnpTcVTRdDAFSWmVqjUBpSo5fWuDBCGRPHYUfO2A==\"\n",
    "org = \"metaportalweb@gmail.com\"\n",
    "url = \"https://us-east-1-1.aws.cloud2.influxdata.com\"\n",
    "bucket = \"WETH\"\n",
    "\n",
    "client = influxdb_client.InfluxDBClient(url=url, token=token, org=org)"
   ]
  },
  {
   "cell_type": "code",
   "execution_count": 5,
   "id": "0d62d104-c1fd-4b9c-8cd0-77f2ffeaf6b8",
   "metadata": {},
   "outputs": [
    {
     "name": "stderr",
     "output_type": "stream",
     "text": [
      "/Users/taetaehoho/projects/metaportal/ronin-python/venv/lib/python3.10/site-packages/influxdb_client/client/warnings.py:31: MissingPivotFunction: The query doesn't contains the pivot() function.\n",
      "\n",
      "The result will not be shaped to optimal processing by pandas.DataFrame. Use the pivot() function by:\n",
      "\n",
      "    from(bucket: \"WETH\")\n",
      " |> range(start: -10000000000m) |> pivot(rowKey:[\"_time\"], columnKey: [\"_field\"], valueColumn: \"_value\")\n",
      "\n",
      "You can disable this warning by:\n",
      "    import warnings\n",
      "    from influxdb_client.client.warnings import MissingPivotFunction\n",
      "\n",
      "    warnings.simplefilter(\"ignore\", MissingPivotFunction)\n",
      "\n",
      "For more info see:\n",
      "    - https://docs.influxdata.com/resources/videos/pivots-in-flux/\n",
      "    - https://docs.influxdata.com/flux/latest/stdlib/universe/pivot/\n",
      "    - https://docs.influxdata.com/flux/latest/stdlib/influxdata/influxdb/schema/fieldsascols/\n",
      "\n",
      "  warnings.warn(message, MissingPivotFunction)\n"
     ]
    }
   ],
   "source": [
    "query_api = client.query_api()\n",
    "\n",
    "query = f\"\"\"from(bucket: \"{bucket}\")\n",
    " |> range(start: -10000000000m)\"\"\"\n",
    "\n",
    "\n",
    "dfs = query_api.query_data_frame(query, org=org)"
   ]
  },
  {
   "cell_type": "code",
   "execution_count": null,
   "id": "f69ad26f-4611-4673-844c-8ce9ef146c6e",
   "metadata": {},
   "outputs": [],
   "source": [
    "#https://github.com/influxdata/influxdb-client-python"
   ]
  },
  {
   "cell_type": "code",
   "execution_count": 7,
   "id": "77c89dc9-ef3a-4dc6-9d95-db525777b863",
   "metadata": {},
   "outputs": [
    {
     "data": {
      "text/html": [
       "<div>\n",
       "<style scoped>\n",
       "    .dataframe tbody tr th:only-of-type {\n",
       "        vertical-align: middle;\n",
       "    }\n",
       "\n",
       "    .dataframe tbody tr th {\n",
       "        vertical-align: top;\n",
       "    }\n",
       "\n",
       "    .dataframe thead th {\n",
       "        text-align: right;\n",
       "    }\n",
       "</style>\n",
       "<table border=\"1\" class=\"dataframe\">\n",
       "  <thead>\n",
       "    <tr style=\"text-align: right;\">\n",
       "      <th></th>\n",
       "    </tr>\n",
       "  </thead>\n",
       "  <tbody>\n",
       "  </tbody>\n",
       "</table>\n",
       "</div>"
      ],
      "text/plain": [
       "Empty DataFrame\n",
       "Columns: []\n",
       "Index: []"
      ]
     },
     "execution_count": 7,
     "metadata": {},
     "output_type": "execute_result"
    }
   ],
   "source": [
    "dfs"
   ]
  },
  {
   "cell_type": "code",
   "execution_count": null,
   "id": "4a55051e-8351-448e-a60b-a628634bd05f",
   "metadata": {},
   "outputs": [],
   "source": []
  }
 ],
 "metadata": {
  "kernelspec": {
   "display_name": "Python 3.10.5 ('venv': venv)",
   "language": "python",
   "name": "python3"
  },
  "language_info": {
   "codemirror_mode": {
    "name": "ipython",
    "version": 3
   },
   "file_extension": ".py",
   "mimetype": "text/x-python",
   "name": "python",
   "nbconvert_exporter": "python",
   "pygments_lexer": "ipython3",
   "version": "3.10.5"
  },
  "vscode": {
   "interpreter": {
    "hash": "c3d912f55839f8f49a2187665eb8b15cb7110421e608b1b1a96b216d9d83d953"
   }
  }
 },
 "nbformat": 4,
 "nbformat_minor": 5
}
