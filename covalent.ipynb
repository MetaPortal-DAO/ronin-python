{
 "cells": [
  {
   "cell_type": "code",
   "execution_count": 15,
   "metadata": {},
   "outputs": [],
   "source": [
    "import pandas as pd \n",
    "import requests\n",
    "import json"
   ]
  },
  {
   "cell_type": "code",
   "execution_count": 33,
   "metadata": {},
   "outputs": [
    {
     "name": "stdout",
     "output_type": "stream",
     "text": [
      "fb67f5effd64d5eebe74a98e5303b6d272107860\n",
      "db5b416fb2e24799c56ae59e418fbe4e00eded2c\n",
      "511af8e53069c34daf40ab7bb4f5ea0fafa5c35b\n",
      "e2cbad5cd3c886118e08e0ab3da04033d8a5f770\n",
      "6f7350210f9961d97a82a721132b00b43bd26a1a\n",
      "1a3cb97ece78a48cf8584c5aa192c023c213cb81\n",
      "d2e0a14121b4291d183419f8bd98c8e9da9ec1d5\n",
      "c12f267f631a8f329579496dd3a914b9edc1ebfa\n",
      "be700c5dca921716bdfb00d367909bf70f9b9f24\n",
      "46ad48776f8cf25c545bdb559f3d5d001172ca4b\n"
     ]
    }
   ],
   "source": [
    "f = open('./data/whales/breeding/2022-06.json')\n",
    "data = json.loads(f.read())['value']"
   ]
  },
  {
   "cell_type": "code",
   "execution_count": 45,
   "metadata": {},
   "outputs": [
    {
     "name": "stdout",
     "output_type": "stream",
     "text": [
      "<class 'dict'>\n",
      "<class 'dict'>\n",
      "<class 'dict'>\n",
      "<class 'dict'>\n",
      "<class 'dict'>\n",
      "<class 'dict'>\n",
      "<class 'dict'>\n",
      "<class 'dict'>\n",
      "<class 'dict'>\n",
      "<class 'dict'>\n"
     ]
    }
   ],
   "source": [
    "whale_dicts = {}\n",
    "for i in data: \n",
    "    account = \"0x\" + f\"{i}\"\n",
    "    base_url = f\"https://api.covalenthq.com/v1/2020/address/{account}/transactions_v2/?quote-currency=USD&format=JSON&block-signed-at-asc=false&no-logs=false&key=ckey_41ce8edbcc2f4275902938abb12\"\n",
    "    res = requests.get(base_url)\n",
    "    print(type(json.loads(res.text)['data']))"
   ]
  },
  {
   "cell_type": "code",
   "execution_count": null,
   "metadata": {},
   "outputs": [],
   "source": []
  }
 ],
 "metadata": {
  "kernelspec": {
   "display_name": "Python 3.10.5 ('venv': venv)",
   "language": "python",
   "name": "python3"
  },
  "language_info": {
   "codemirror_mode": {
    "name": "ipython",
    "version": 3
   },
   "file_extension": ".py",
   "mimetype": "text/x-python",
   "name": "python",
   "nbconvert_exporter": "python",
   "pygments_lexer": "ipython3",
   "version": "3.10.5"
  },
  "orig_nbformat": 4,
  "vscode": {
   "interpreter": {
    "hash": "c3d912f55839f8f49a2187665eb8b15cb7110421e608b1b1a96b216d9d83d953"
   }
  }
 },
 "nbformat": 4,
 "nbformat_minor": 2
}
