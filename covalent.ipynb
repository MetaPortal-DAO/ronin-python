{
 "cells": [
  {
   "cell_type": "code",
   "execution_count": 120,
   "metadata": {},
   "outputs": [],
   "source": [
    "import pandas as pd \n",
    "import requests\n",
    "import json\n",
    "import datetime\n",
    "import os"
   ]
  },
  {
   "cell_type": "markdown",
   "metadata": {},
   "source": [
    "datetime"
   ]
  },
  {
   "cell_type": "code",
   "execution_count": 162,
   "metadata": {},
   "outputs": [
    {
     "ename": "FileNotFoundError",
     "evalue": "[Errno 2] No such file or directory: './data/whales/breeding/2022-10.json'",
     "output_type": "error",
     "traceback": [
      "\u001b[0;31m---------------------------------------------------------------------------\u001b[0m",
      "\u001b[0;31mFileNotFoundError\u001b[0m                         Traceback (most recent call last)",
      "Cell \u001b[0;32mIn [162], line 4\u001b[0m\n\u001b[1;32m      1\u001b[0m \u001b[39m# adjust the date by the month it is \u001b[39;00m\n\u001b[1;32m      3\u001b[0m date \u001b[39m=\u001b[39m \u001b[39mstr\u001b[39m(datetime\u001b[39m.\u001b[39mdatetime\u001b[39m.\u001b[39mnow()\u001b[39m.\u001b[39myear) \u001b[39m+\u001b[39m \u001b[39m\"\u001b[39m\u001b[39m-\u001b[39m\u001b[39m\"\u001b[39m \u001b[39m+\u001b[39m \u001b[39mstr\u001b[39m(datetime\u001b[39m.\u001b[39mdatetime\u001b[39m.\u001b[39mnow()\u001b[39m.\u001b[39mmonth)\u001b[39m.\u001b[39mrjust(\u001b[39m2\u001b[39m, \u001b[39m'\u001b[39m\u001b[39m0\u001b[39m\u001b[39m'\u001b[39m)\n\u001b[0;32m----> 4\u001b[0m f \u001b[39m=\u001b[39m \u001b[39mopen\u001b[39m(\u001b[39mf\u001b[39m\u001b[39m'\u001b[39m\u001b[39m./data/whales/breeding/\u001b[39m\u001b[39m{\u001b[39;00mdate\u001b[39m}\u001b[39;00m\u001b[39m.json\u001b[39m\u001b[39m'\u001b[39m)\n\u001b[1;32m      5\u001b[0m data \u001b[39m=\u001b[39m json\u001b[39m.\u001b[39mloads(f\u001b[39m.\u001b[39mread())[\u001b[39m'\u001b[39m\u001b[39mvalue\u001b[39m\u001b[39m'\u001b[39m]\n",
      "\u001b[0;31mFileNotFoundError\u001b[0m: [Errno 2] No such file or directory: './data/whales/breeding/2022-10.json'"
     ]
    }
   ],
   "source": [
    "# adjust the date by the month it is \n",
    "\n",
    "date = str(datetime.datetime.now().year) + \"-\" + str(datetime.datetime.now().month - 1).rjust(2, '0')\n",
    "f = open(f'./data/whales/breeding/{date}.json')\n",
    "data = json.loads(f.read())['value']"
   ]
  },
  {
   "cell_type": "code",
   "execution_count": 159,
   "metadata": {},
   "outputs": [],
   "source": [
    "whale_lst = []\n",
    "for i in data: \n",
    "    account = \"0x\" + f\"{i}\"\n",
    "    base_url = f\"https://api.covalenthq.com/v1/2020/address/{account}/transactions_v2/?quote-currency=USD&format=JSON&block-signed-at-asc=false&no-logs=true&key=ckey_41ce8edbcc2f4275902938abb12\"\n",
    "    res = requests.get(base_url)\n",
    "    whale_lst.append(json.loads(res.text)['data'])"
   ]
  },
  {
   "cell_type": "code",
   "execution_count": 160,
   "metadata": {},
   "outputs": [],
   "source": [
    "for i in whale_lst:\n",
    "    df = pd.DataFrame(i['items'])\n",
    "    df.drop([\"block_height\", \"tx_offset\", \"value_quote\"], axis=1)\n",
    "    df.drop(df[(df['successful'] == False)].index, inplace=True)\n",
    "    \n",
    "    filename = \"./data/whales_ronin_tx/\" + date\n",
    "    \n",
    "    # if the respective month file dne then create one \n",
    "    if not os.path.isfile(filename): \n",
    "        try: \n",
    "            os.mkdir(filename)\n",
    "        except: \n",
    "            pass\n",
    "            \n",
    "    # place tx's for that month's whale (all historic txs) in csv\n",
    "    fname = str(i['address'])\n",
    "    df.to_csv(f\"./data/whales_ronin_tx/{date}/{fname}\")"
   ]
  },
  {
   "cell_type": "code",
   "execution_count": null,
   "metadata": {},
   "outputs": [],
   "source": []
  }
 ],
 "metadata": {
  "kernelspec": {
   "display_name": "Python 3.10.5 ('venv': venv)",
   "language": "python",
   "name": "python3"
  },
  "language_info": {
   "codemirror_mode": {
    "name": "ipython",
    "version": 3
   },
   "file_extension": ".py",
   "mimetype": "text/x-python",
   "name": "python",
   "nbconvert_exporter": "python",
   "pygments_lexer": "ipython3",
   "version": "3.10.5"
  },
  "orig_nbformat": 4,
  "vscode": {
   "interpreter": {
    "hash": "c3d912f55839f8f49a2187665eb8b15cb7110421e608b1b1a96b216d9d83d953"
   }
  }
 },
 "nbformat": 4,
 "nbformat_minor": 2
}
