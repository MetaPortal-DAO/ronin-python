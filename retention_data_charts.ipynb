{
 "cells": [
  {
   "cell_type": "code",
   "execution_count": 1,
   "metadata": {},
   "outputs": [],
   "source": [
    "import pandas as pd\n",
    "import numpy as np\n",
    "import matplotlib.pyplot as mp\n",
    "import seaborn as sns\n",
    "import datetime\n",
    "import plotly.graph_objects as go\n",
    "import plotly.express as px\n",
    "from os.path import exists\n",
    "import matplotlib.colors as mcolors\n",
    "\n"
   ]
  },
  {
   "cell_type": "code",
   "execution_count": 2,
   "metadata": {},
   "outputs": [],
   "source": [
    "def gini(list_of_values):\n",
    "    n = len(list_of_values)\n",
    "    sorted_list = sorted(list_of_values)\n",
    "    height, area = 0, 0\n",
    "    for value in sorted_list:\n",
    "        height += value\n",
    "        area += height - value / 2.\n",
    "    fair_area = height * len(list_of_values) / 2.\n",
    "    return (fair_area - area) / fair_area * (n-1)/n\n",
    "\n",
    "\n",
    "def convert_blocktime(blocktime):\n",
    "    if blocktime is None:\n",
    "        return None\n",
    "    else:\n",
    "        timestr = blocktime.replace('T',' ').replace('Z','')\n",
    "        return datetime.datetime.strptime(timestr[:-6], \"%Y-%m-%d %H:%M:%S\")"
   ]
  },
  {
   "cell_type": "code",
   "execution_count": 3,
   "metadata": {},
   "outputs": [],
   "source": [
    "def get_user_grp(df, month_list):\n",
    "    #for month over month behaviour of users (sankey chart)\n",
    "    #1) new past 30d\n",
    "    #2) repeat 30d\n",
    "    #3) repeat 90d\n",
    "    #4) active non repeat 90d\n",
    "    #5) non active >180d\n",
    "    #6) non active >365d\n",
    "    # look what they did past month, e.g. repeat 30d means they traded past 30days, mustnt mean they also trade this month\n",
    "    df['user_grp']=''\n",
    "    for num_month in range(0,len(month_list)):\n",
    "    \n",
    "        #1 new: started trading past 30days\n",
    "        if num_month==0:\n",
    "            df.loc[(df.month_date==month_list[num_month]) & (df.day_first<=30),'user_grp']='new'\n",
    "        \n",
    "        if num_month>0:\n",
    "            #months like february mess up above logic, so need to force that trader wasn't around last month\n",
    "            df.loc[(df.month_date==month_list[num_month]) & (df.day_first<=30)\n",
    "            & (~df.trader.isin(df[(df.month_date==month_list[num_month-1]) ].trader.unique())),'user_grp']='new'\n",
    "\n",
    "            #1 repeat 30d: traded 30days\n",
    "            df.loc[(df.month_date==month_list[num_month]) & \n",
    "            (df.user_grp=='') &\n",
    "            (df.trader.isin(df[(df.month_date==month_list[num_month-1])&\n",
    "                (df.swaps_30d>0)].trader.unique())),'user_grp'] = 'repeat_30d'\n",
    "            \n",
    "            #2 repeat 90d: didn't traded last 30days, but last 90days\n",
    "            df.loc[(df.month_date==month_list[num_month]) & \n",
    "                (df.user_grp=='') & \n",
    "            (df.trader.isin(df[(df.month_date==month_list[num_month-1])&\n",
    "                (df.swaps_90d>0)].trader.unique())),'user_grp'] = 'repeat_90d'\n",
    "\n",
    "            #3 repeat 90d: didn't traded last 90days, but last 180days\n",
    "            df.loc[(df.month_date==month_list[num_month]) & \n",
    "                (df.user_grp=='') &\n",
    "                (df.trader.isin(df[(df.month_date==month_list[num_month-1])&\n",
    "                (df.swaps_180d>0)].trader.unique())),'user_grp'] = 'repeat_180d'\n",
    "        else:\n",
    "            #adjust logic when we cant look at the prior month - then just take current month, same logic\n",
    "            df.loc[(df.month_date==month_list[num_month]) & \n",
    "            (df.user_grp=='') &\n",
    "            (df.trader.isin(df[(df.month_date==month_list[num_month])&\n",
    "                (df.swaps_30d>0)].trader.unique())),'user_grp'] = 'repeat_30d'    \n",
    "        \n",
    "            df.loc[(df.month_date==month_list[num_month]) & \n",
    "            (df.user_grp=='') &\n",
    "            (df.trader.isin(df[(df.month_date==month_list[num_month])&\n",
    "                (df.swaps_90d>0)].trader.unique())),'user_grp'] = 'repeat_90d'    \n",
    "            \n",
    "            df.loc[(df.month_date==month_list[num_month]) & \n",
    "                (df.user_grp=='') &\n",
    "                (df.trader.isin(df[(df.month_date==month_list[num_month])&\n",
    "                (df.swaps_180d>0)].trader.unique())),'user_grp'] = 'repeat_180d'\n",
    "\n",
    "\n",
    "        #no group yet, but last trade <1y -> not active >180days\n",
    "        df.loc[(df.month_date==month_list[num_month]) & \n",
    "            (df.user_grp=='') &\n",
    "            (df.day_last<=365)\n",
    "            ,'user_grp'] = 'not active >6m'\n",
    "\n",
    "        #no group yet, but last trade >1y -> not active >1 year\n",
    "        df.loc[(df.month_date==month_list[num_month]) & \n",
    "            (df.user_grp=='') &\n",
    "            (df.day_last>365)\n",
    "            ,'user_grp'] = 'not active >1y'\n",
    "\n",
    "\n",
    "\n"
   ]
  },
  {
   "cell_type": "code",
   "execution_count": 4,
   "metadata": {},
   "outputs": [],
   "source": [
    "def add_nodes(df, lst_months_labels):\n",
    "    df['node']=-1\n",
    "    df['node_label']=''\n",
    "    lst_months=df.month_date.unique()\n",
    "    lst_user_grp=df.user_grp.unique()\n",
    "    lst_node_labels=[]\n",
    "    lst_nodes = []\n",
    "    lst_colors=[]\n",
    "\n",
    "    cnt = 0\n",
    "\n",
    "    for cnt_month in range(0,len(lst_months)):\n",
    "        for user_grp_name in lst_user_grp:\n",
    "            df.loc[(df.month_date==lst_months[cnt_month]) & (df.user_grp==user_grp_name),'node']=cnt\n",
    "            df.loc[(df.month_date==lst_months[cnt_month]) & (df.user_grp==user_grp_name),'node_label']=lst_months_labels[cnt_month] + '/' +  user_grp_name\n",
    "            lst_node_labels.append(lst_months_labels[cnt_month] + '/' +  user_grp_name)\n",
    "            lst_nodes.append(cnt)\n",
    "            if user_grp_name=='new':\n",
    "                lst_colors.append('yellow')\n",
    "            elif user_grp_name=='repeat_30d':\n",
    "                lst_colors.append('lightgreen')\n",
    "            elif user_grp_name=='repeat_90d':\n",
    "                lst_colors.append('darkgreen')\n",
    "            elif user_grp_name=='repeat_180d':\n",
    "                lst_colors.append('steelblue')\n",
    "            elif user_grp_name=='not active >6m':\n",
    "                lst_colors.append('mediumpurple')\n",
    "            elif user_grp_name=='not active >1y':\n",
    "                lst_colors.append('indigo')\n",
    "            cnt+=1\n",
    "\n",
    "    return {'lst_nodes':lst_nodes,'lst_node_labels':lst_node_labels, 'lst_colors':lst_colors}\n",
    "            "
   ]
  },
  {
   "cell_type": "code",
   "execution_count": 5,
   "metadata": {},
   "outputs": [],
   "source": [
    "def df_sankey_mapping(df):\n",
    "    \n",
    "        \n",
    "    lst_months=df.month_date.unique()\n",
    "    dct_sankey = {\n",
    "    'source':[],\n",
    "    'target':[],\n",
    "    'num_wallets':[],\n",
    "    'volume_30d':[],\n",
    "    # 'share_vol':[],\n",
    "    'swaps_30d':[]\n",
    "    # 'share_wallets':[],\n",
    "    # 'volume_30d':[],\n",
    "    # 'share_volume_30d':[],\n",
    "    # 'swaps_30d':[],\n",
    "    # 'share_swaps_30d':[]\n",
    "    }\n",
    "\n",
    "    for num_month in range(1,len(lst_months)):\n",
    "        for user_grp_name_source in lst_user_grp:\n",
    "                for user_grp_name_target in lst_user_grp:\n",
    "                    tmp= df[(df.trader.isin(df[(df.month_date==lst_months[num_month-1]) &\n",
    "                                                                                (df.user_grp==user_grp_name_source)].trader.unique())) \n",
    "                                    & (df.month_date==lst_months[num_month])\n",
    "                                    & (df.user_grp==user_grp_name_target)]\n",
    "\n",
    "                    if tmp.trader.nunique()>0:\n",
    "                        dct_sankey['source'].append(df[(df.month_date==lst_months[num_month-1]) &\n",
    "                                                                                    (df.user_grp==user_grp_name_source)].node.iloc[0])\n",
    "                        dct_sankey['target'].append(df[(df.month_date==lst_months[num_month]) &\n",
    "                                                                                    (df.user_grp==user_grp_name_target)].node.iloc[0])\n",
    "                        dct_sankey['num_wallets'].append(tmp.trader.nunique())\n",
    "                        dct_sankey['volume_30d'].append(tmp.volume_30d.sum())\n",
    "                        # dct_sankey['share_vol'].append(tmp.share_vol_30d.sum())\n",
    "                        dct_sankey['swaps_30d'].append(tmp.swaps_30d.sum())\n",
    "\n",
    "    return pd.DataFrame.from_dict(dct_sankey)\n",
    "                        \n",
    "    "
   ]
  },
  {
   "cell_type": "code",
   "execution_count": 6,
   "metadata": {},
   "outputs": [],
   "source": [
    "def make_df_cohort(df, **kwargs):\n",
    "    shift_days = kwargs.get('shift_days',8)\n",
    "    df_cohort = df[['trader','day_first']].reset_index()\n",
    "    df_cohort['cohort'] = [(df_cohort.iloc[i].day_first-shift_days)//30 for i in range(0,len(df_cohort))]\n",
    "\n",
    "    return df_cohort\n",
    "\n"
   ]
  },
  {
   "cell_type": "markdown",
   "metadata": {},
   "source": [
    "## retention groups, charts and matrix"
   ]
  },
  {
   "cell_type": "code",
   "execution_count": 61,
   "metadata": {},
   "outputs": [
    {
     "name": "stdout",
     "output_type": "stream",
     "text": [
      "retention_input/uni_monthly_2022-01-01_1.csv\n",
      "500000\n",
      "retention_input/uni_monthly_2022-01-01_2.csv\n",
      "999999\n",
      "retention_input/uni_monthly_2022-01-01_3.csv\n",
      "1499999\n",
      "retention_input/uni_monthly_2022-01-01_4.csv\n",
      "1999999\n",
      "retention_input/uni_monthly_2022-01-01_5.csv\n",
      "2499999\n",
      "retention_input/uni_monthly_2022-01-01_6.csv\n",
      "2999999\n",
      "retention_input/uni_monthly_2022-01-01_7.csv\n",
      "3373229\n",
      "retention_input/uni_monthly_2022-01-01_8.csv\n",
      "3373229\n",
      "retention_input/uni_monthly_2022-02-01_1.csv\n",
      "3384877\n",
      "retention_input/uni_monthly_2022-02-01_2.csv\n",
      "3403259\n",
      "retention_input/uni_monthly_2022-02-01_3.csv\n",
      "3422135\n",
      "retention_input/uni_monthly_2022-02-01_4.csv\n",
      "3442702\n",
      "retention_input/uni_monthly_2022-02-01_5.csv\n",
      "3463486\n",
      "retention_input/uni_monthly_2022-02-01_6.csv\n",
      "3481706\n",
      "retention_input/uni_monthly_2022-02-01_7.csv\n",
      "3493484\n",
      "retention_input/uni_monthly_2022-02-01_8.csv\n",
      "3493484\n",
      "retention_input/uni_monthly_2022-03-01_1.csv\n",
      "3501311\n",
      "retention_input/uni_monthly_2022-03-01_2.csv\n",
      "3513736\n",
      "retention_input/uni_monthly_2022-03-01_3.csv\n",
      "3528388\n",
      "retention_input/uni_monthly_2022-03-01_4.csv\n",
      "3544156\n",
      "retention_input/uni_monthly_2022-03-01_5.csv\n",
      "3561133\n",
      "retention_input/uni_monthly_2022-03-01_6.csv\n",
      "3577787\n",
      "retention_input/uni_monthly_2022-03-01_7.csv\n",
      "3591585\n",
      "retention_input/uni_monthly_2022-03-01_8.csv\n",
      "3602594\n",
      "retention_input/uni_monthly_2022-03-01_9.csv\n",
      "3602594\n",
      "retention_input/uni_monthly_2022-04-01_1.csv\n",
      "3610559\n",
      "retention_input/uni_monthly_2022-04-01_2.csv\n",
      "3623184\n",
      "retention_input/uni_monthly_2022-04-01_3.csv\n",
      "3638341\n",
      "retention_input/uni_monthly_2022-04-01_4.csv\n",
      "3655592\n",
      "retention_input/uni_monthly_2022-04-01_5.csv\n",
      "3671080\n",
      "retention_input/uni_monthly_2022-04-01_6.csv\n",
      "3688455\n",
      "retention_input/uni_monthly_2022-04-01_7.csv\n",
      "3707014\n",
      "retention_input/uni_monthly_2022-04-01_8.csv\n",
      "3714893\n",
      "retention_input/uni_monthly_2022-04-01_9.csv\n",
      "3714893\n",
      "retention_input/uni_monthly_2022-05-01_1.csv\n",
      "3722165\n",
      "retention_input/uni_monthly_2022-05-01_2.csv\n",
      "3734144\n",
      "retention_input/uni_monthly_2022-05-01_3.csv\n",
      "3746364\n",
      "retention_input/uni_monthly_2022-05-01_4.csv\n",
      "3759720\n",
      "retention_input/uni_monthly_2022-05-01_5.csv\n",
      "3773540\n",
      "retention_input/uni_monthly_2022-05-01_6.csv\n",
      "3787310\n",
      "retention_input/uni_monthly_2022-05-01_7.csv\n",
      "3801416\n",
      "retention_input/uni_monthly_2022-05-01_8.csv\n",
      "3808787\n",
      "retention_input/uni_monthly_2022-05-01_9.csv\n",
      "3808787\n",
      "retention_input/uni_monthly_2022-06-01_1.csv\n",
      "3814522\n",
      "retention_input/uni_monthly_2022-06-01_2.csv\n",
      "3821248\n",
      "retention_input/uni_monthly_2022-06-01_3.csv\n",
      "3828222\n",
      "retention_input/uni_monthly_2022-06-01_4.csv\n",
      "3836931\n",
      "retention_input/uni_monthly_2022-06-01_5.csv\n",
      "3845788\n",
      "retention_input/uni_monthly_2022-06-01_6.csv\n",
      "3856911\n",
      "retention_input/uni_monthly_2022-06-01_7.csv\n",
      "3870554\n",
      "retention_input/uni_monthly_2022-06-01_8.csv\n",
      "3882540\n",
      "retention_input/uni_monthly_2022-06-01_9.csv\n",
      "3882540\n",
      "retention_input/uni_monthly_2022-07-01_1.csv\n",
      "3886240\n",
      "retention_input/uni_monthly_2022-07-01_2.csv\n",
      "3890964\n",
      "retention_input/uni_monthly_2022-07-01_3.csv\n",
      "3896378\n",
      "retention_input/uni_monthly_2022-07-01_4.csv\n",
      "3902766\n",
      "retention_input/uni_monthly_2022-07-01_5.csv\n",
      "3909852\n",
      "retention_input/uni_monthly_2022-07-01_6.csv\n",
      "3917349\n",
      "retention_input/uni_monthly_2022-07-01_7.csv\n",
      "3928099\n",
      "retention_input/uni_monthly_2022-07-01_8.csv\n",
      "3939471\n",
      "retention_input/uni_monthly_2022-07-01_9.csv\n",
      "3939471\n",
      "retention_input/uni_monthly_2022-08-01_1.csv\n",
      "3942501\n",
      "retention_input/uni_monthly_2022-08-01_2.csv\n",
      "3947440\n",
      "retention_input/uni_monthly_2022-08-01_3.csv\n",
      "3953313\n",
      "retention_input/uni_monthly_2022-08-01_4.csv\n",
      "3960516\n",
      "retention_input/uni_monthly_2022-08-01_5.csv\n",
      "3969612\n",
      "retention_input/uni_monthly_2022-08-01_6.csv\n",
      "3977990\n",
      "retention_input/uni_monthly_2022-08-01_7.csv\n",
      "3990685\n",
      "retention_input/uni_monthly_2022-08-01_8.csv\n",
      "4010976\n",
      "retention_input/uni_monthly_2022-08-01_9.csv\n",
      "4011526\n",
      "retention_input/uni_monthly_2022-09-01_1.csv\n",
      "4014945\n",
      "retention_input/uni_monthly_2022-09-01_2.csv\n",
      "4020392\n",
      "retention_input/uni_monthly_2022-09-01_3.csv\n",
      "4026821\n",
      "retention_input/uni_monthly_2022-09-01_4.csv\n",
      "4034861\n",
      "retention_input/uni_monthly_2022-09-01_5.csv\n",
      "4044244\n",
      "retention_input/uni_monthly_2022-09-01_6.csv\n",
      "4055080\n",
      "retention_input/uni_monthly_2022-09-01_7.csv\n",
      "4069264\n",
      "retention_input/uni_monthly_2022-09-01_8.csv\n",
      "4090145\n",
      "retention_input/uni_monthly_2022-09-01_9.csv\n",
      "4094853\n"
     ]
    }
   ],
   "source": [
    "#needed to pull dune data piece-wise to not crash query, will adjust this now API is available\n",
    "#see query: https://dune.com/queries/1185063?month_date_t6c1ea=%272022-09-01%27\n",
    "project = 'uni'\n",
    "for i in range(1,10):\n",
    "    cnt = 1\n",
    "    file_exists=True\n",
    "    while (cnt<10) & (file_exists):\n",
    "        filename='retention_input/' + project + '_monthly_2022-0' + str(i) + '-01_' + str(cnt) + '.csv'\n",
    "        file_exists=exists(filename)\n",
    "        print(filename)\n",
    "        if file_exists:\n",
    "            tmp = pd.read_csv(filename)\n",
    "            tmp['month_date']=datetime.datetime.strptime('2022-0' + str(i) + '-01', '%Y-%m-%d').date()\n",
    "        if (i==1) & (cnt==1):\n",
    "            df_project_monthly=tmp\n",
    "        else:\n",
    "            df_project_monthly=pd.concat([df_project_monthly,tmp])\n",
    "        print(df_project_monthly.trader.nunique())\n",
    "        cnt+=1"
   ]
  },
  {
   "cell_type": "code",
   "execution_count": 62,
   "metadata": {},
   "outputs": [],
   "source": [
    "df_project_monthly=df_project_monthly.drop_duplicates(['trader','month_date'])"
   ]
  },
  {
   "cell_type": "code",
   "execution_count": 63,
   "metadata": {},
   "outputs": [],
   "source": [
    "get_user_grp(df_project_monthly,df_project_monthly.month_date.unique())"
   ]
  },
  {
   "cell_type": "code",
   "execution_count": 65,
   "metadata": {},
   "outputs": [],
   "source": [
    "df_grp_month = df_project_monthly.groupby(['month_date','user_grp'], dropna=False).agg(\n",
    "    num_wallets = ('trader','nunique'),\n",
    "    swaps_30d = ('swaps_30d','sum'),\n",
    "    volume_30d = ('volume_30d','sum')\n",
    ").reset_index()"
   ]
  },
  {
   "cell_type": "code",
   "execution_count": 66,
   "metadata": {},
   "outputs": [],
   "source": [
    "lst_months = df_grp_month['month_date'].unique()\n",
    "df_grp_month['share_vol']=0\n",
    "df_grp_month['share_swaps']=0\n",
    "df_grp_month['share_wallets']=0\n",
    "\n",
    "for m in lst_months:\n",
    "    df_grp_month.loc[df_grp_month.month_date==m,'share_vol']=df_grp_month[df_grp_month.month_date==m].volume_30d/sum(df_grp_month[df_grp_month.month_date==m].volume_30d)\n",
    "    df_grp_month.loc[df_grp_month.month_date==m,'share_swaps']=df_grp_month[df_grp_month.month_date==m].swaps_30d/sum(df_grp_month[df_grp_month.month_date==m].swaps_30d)\n",
    "    df_grp_month.loc[df_grp_month.month_date==m,'share_wallets']=df_grp_month[df_grp_month.month_date==m].num_wallets/sum(df_grp_month[df_grp_month.month_date==m].num_wallets)"
   ]
  },
  {
   "cell_type": "code",
   "execution_count": 67,
   "metadata": {},
   "outputs": [],
   "source": [
    "lst_months_labels=[]\n",
    "lst_months_labels.append('2021-12')\n",
    "for i in range(1, len(lst_months)):\n",
    "    lst_months_labels.append(str(lst_months[i].year)+'-' + str(lst_months[i].month-1) )"
   ]
  },
  {
   "cell_type": "code",
   "execution_count": 68,
   "metadata": {},
   "outputs": [
    {
     "data": {
      "text/plain": [
       "Text(0.5, 1.0, '#Wallets of uni user groups by month')"
      ]
     },
     "execution_count": 68,
     "metadata": {},
     "output_type": "execute_result"
    },
    {
     "data": {
      "image/png": "[encoded data removed]",
      "text/plain": [
       "<Figure size 720x576 with 1 Axes>"
      ]
     },
     "metadata": {
      "needs_background": "light"
     },
     "output_type": "display_data"
    }
   ],
   "source": [
    "fig, axs=mp.subplots()\n",
    "\n",
    "kpi_col='num_wallets'\n",
    "\n",
    "lst_user_grp = ['not active >1y','not active >6m', 'repeat_180d', 'repeat_90d', 'repeat_30d', 'new']\n",
    "\n",
    "dct_data = {}\n",
    "for user_grp_name in lst_user_grp:\n",
    "    dct_data[user_grp_name]=[]\n",
    "    for m in lst_months:\n",
    "        if len(df_grp_month[(df_grp_month.user_grp==user_grp_name) & (df_grp_month.month_date==m)])>0:\n",
    "            dct_data[user_grp_name].append(df_grp_month[(df_grp_month.user_grp==user_grp_name) & (df_grp_month.month_date==m)][kpi_col].iloc[0])\n",
    "        else:\n",
    "            dct_data[user_grp_name].append(0)\n",
    "    \n",
    "    \n",
    "\n",
    "df=pd.DataFrame(dct_data,index=lst_months_labels)\n",
    "df.plot(kind=\"bar\",stacked=True,figsize=(10,8), color=mp.cm.viridis(50*np.arange(len(lst_user_grp))), ax=axs)\n",
    "mp.xticks(rotation=90)\n",
    "mp.title('#Wallets of ' + project + ' user groups by month')\n",
    "# fig.savefig('charts/user_grp_num_wallets.png')\n"
   ]
  },
  {
   "cell_type": "code",
   "execution_count": 40,
   "metadata": {},
   "outputs": [
    {
     "data": {
      "text/plain": [
       "Text(0.5, 1.0, '%Wallets of 1inch user groups by month')"
      ]
     },
     "execution_count": 40,
     "metadata": {},
     "output_type": "execute_result"
    },
    {
     "data": {
      "image/png": "[encoded data removed]",
      "text/plain": [
       "<Figure size 720x576 with 1 Axes>"
      ]
     },
     "metadata": {
      "needs_background": "light"
     },
     "output_type": "display_data"
    }
   ],
   "source": [
    "fig, axs=mp.subplots()\n",
    "\n",
    "kpi_col='share_wallets'\n",
    "\n",
    "dct_data = {}\n",
    "for user_grp_name in lst_user_grp:\n",
    "    dct_data[user_grp_name]=[]\n",
    "    for m in lst_months:\n",
    "        if len(df_grp_month[(df_grp_month.user_grp==user_grp_name) & (df_grp_month.month_date==m)])>0:\n",
    "            dct_data[user_grp_name].append(df_grp_month[(df_grp_month.user_grp==user_grp_name) & (df_grp_month.month_date==m)][kpi_col].iloc[0])\n",
    "        else:\n",
    "            dct_data[user_grp_name].append(0)\n",
    "    \n",
    "\n",
    "df=pd.DataFrame(dct_data,index=lst_months_labels)\n",
    "df.plot(kind=\"bar\",stacked=True,figsize=(10,8), color=mp.cm.viridis(50*np.arange(len(lst_user_grp))), ax=axs)\n",
    "mp.xticks(rotation=90)\n",
    "mp.title('%Wallets of 1inch user groups by month')\n",
    "# fig.savefig('charts/user_grp_share_wallets.png')\n"
   ]
  },
  {
   "cell_type": "code",
   "execution_count": 17,
   "metadata": {},
   "outputs": [
    {
     "data": {
      "text/plain": [
       "Text(0.5, 1.0, 'Share of 30d volume of Cowswap user groups by month')"
      ]
     },
     "execution_count": 17,
     "metadata": {},
     "output_type": "execute_result"
    },
    {
     "data": {
      "image/png": "[encoded data removed]",
      "text/plain": [
       "<Figure size 720x576 with 1 Axes>"
      ]
     },
     "metadata": {
      "needs_background": "light"
     },
     "output_type": "display_data"
    }
   ],
   "source": [
    "kpi_col='share_vol'\n",
    "\n",
    "dct_data = {}\n",
    "for user_grp_name in lst_user_grp:\n",
    "    dct_data[user_grp_name]=[]\n",
    "    for m in lst_months:\n",
    "        if len(df_grp_month[(df_grp_month.user_grp==user_grp_name) & (df_grp_month.month_date==m)])>0:\n",
    "            dct_data[user_grp_name].append(df_grp_month[(df_grp_month.user_grp==user_grp_name) & (df_grp_month.month_date==m)][kpi_col].iloc[0])\n",
    "        else:\n",
    "            dct_data[user_grp_name].append(0)\n",
    "    \n",
    "\n",
    "df=pd.DataFrame(dct_data,index=lst_months)\n",
    "df.plot(kind=\"bar\",stacked=True,figsize=(10,8), color=mp.cm.viridis(50*np.arange(len(lst_user_grp))))\n",
    "mp.xticks(rotation=90)\n",
    "mp.title('Share of 30d volume of Cowswap user groups by month')"
   ]
  },
  {
   "cell_type": "code",
   "execution_count": 41,
   "metadata": {},
   "outputs": [],
   "source": [
    "dct_lists_nodes = add_nodes(df_project_monthly,lst_months_labels)\n",
    "lst_nodes = dct_lists_nodes['lst_nodes']\n",
    "lst_node_labels = dct_lists_nodes['lst_node_labels']\n",
    "lst_colors = dct_lists_nodes['lst_colors']"
   ]
  },
  {
   "cell_type": "code",
   "execution_count": 42,
   "metadata": {},
   "outputs": [],
   "source": [
    "df_sankey = df_sankey_mapping(df_project_monthly)"
   ]
  },
  {
   "cell_type": "code",
   "execution_count": 43,
   "metadata": {},
   "outputs": [
    {
     "data": {
      "application/vnd.plotly.v1+json": {
       "config": {
        "plotlyServerURL": "https://plot.ly"
       },
       "data": [
        {
         "link": {
          "source": [
           3,
           3,
           2,
           2,
           1,
           5,
           0,
           4,
           9,
           9,
           8,
           8,
           8,
           7,
           7,
           7,
           11,
           11,
           11,
           6,
           6,
           10,
           15,
           15,
           14,
           14,
           14,
           13,
           13,
           13,
           17,
           17,
           17,
           12,
           12,
           16,
           21,
           21,
           20,
           20,
           20,
           19,
           19,
           19,
           19,
           23,
           23,
           23,
           18,
           18,
           18,
           22,
           27,
           26,
           26,
           25,
           25,
           29,
           29,
           24,
           24,
           24,
           24,
           24,
           33,
           33,
           32,
           32,
           31,
           35,
           30,
           39,
           39,
           38,
           38,
           38,
           38,
           37,
           37,
           37,
           37,
           41,
           41,
           41,
           36,
           36,
           36,
           40,
           45,
           45,
           44,
           44,
           44,
           43,
           43,
           43,
           47,
           47,
           47,
           42,
           42,
           46
          ],
          "target": [
           9,
           8,
           9,
           8,
           7,
           11,
           6,
           6,
           15,
           14,
           15,
           14,
           12,
           14,
           13,
           12,
           13,
           17,
           12,
           17,
           12,
           12,
           21,
           20,
           21,
           20,
           18,
           20,
           19,
           18,
           19,
           23,
           18,
           23,
           18,
           18,
           27,
           26,
           26,
           29,
           24,
           26,
           25,
           29,
           24,
           25,
           29,
           24,
           25,
           29,
           24,
           24,
           33,
           32,
           31,
           31,
           35,
           35,
           30,
           33,
           32,
           31,
           35,
           30,
           39,
           38,
           39,
           38,
           37,
           41,
           36,
           45,
           44,
           45,
           44,
           47,
           42,
           44,
           43,
           47,
           42,
           43,
           47,
           42,
           43,
           47,
           42,
           42,
           51,
           50,
           51,
           50,
           48,
           50,
           49,
           48,
           49,
           53,
           48,
           53,
           48,
           48
          ],
          "value": [
           46856,
           189,
           16656,
           143160,
           65418,
           102964,
           23810,
           28893,
           63314,
           198,
           25019,
           116986,
           1414,
           19672,
           44108,
           1638,
           49214,
           48627,
           5123,
           39023,
           13680,
           22296,
           87675,
           658,
           48005,
           87707,
           1194,
           16509,
           75131,
           1682,
           45821,
           37492,
           4337,
           29997,
           14154,
           17360,
           110223,
           25457,
           102098,
           21413,
           5090,
           70629,
           45379,
           2359,
           2585,
           59644,
           3459,
           4386,
           704,
           29021,
           9002,
           725,
           110223,
           153572,
           44612,
           78484,
           27243,
           23459,
           32793,
           374,
           1142,
           2729,
           4138,
           13405,
           109813,
           784,
           65436,
           89278,
           125825,
           54840,
           46198,
           174571,
           678,
           24241,
           62646,
           17822,
           5149,
           90392,
           29907,
           2122,
           3404,
           47776,
           2756,
           4308,
           796,
           35686,
           9716,
           24608,
           198204,
           608,
           18128,
           133092,
           2550,
           30341,
           45863,
           2275,
           28224,
           26491,
           3671,
           34522,
           12663,
           20629
          ]
         },
         "node": {
          "color": [
           "lightgreen",
           "steelblue",
           "mediumpurple",
           "indigo",
           "yellow",
           "darkgreen",
           "lightgreen",
           "steelblue",
           "mediumpurple",
           "indigo",
           "yellow",
           "darkgreen",
           "lightgreen",
           "steelblue",
           "mediumpurple",
           "indigo",
           "yellow",
           "darkgreen",
           "lightgreen",
           "steelblue",
           "mediumpurple",
           "indigo",
           "yellow",
           "darkgreen",
           "lightgreen",
           "steelblue",
           "mediumpurple",
           "indigo",
           "yellow",
           "darkgreen",
           "lightgreen",
           "steelblue",
           "mediumpurple",
           "indigo",
           "yellow",
           "darkgreen",
           "lightgreen",
           "steelblue",
           "mediumpurple",
           "indigo",
           "yellow",
           "darkgreen",
           "lightgreen",
           "steelblue",
           "mediumpurple",
           "indigo",
           "yellow",
           "darkgreen",
           "lightgreen",
           "steelblue",
           "mediumpurple",
           "indigo",
           "yellow",
           "darkgreen"
          ],
          "label": [
           "2021-12/repeat_30d",
           "2021-12/repeat_180d",
           "2021-12/not active >6m",
           "2021-12/not active >1y",
           "2021-12/new",
           "2021-12/repeat_90d",
           "2022-1/repeat_30d",
           "2022-1/repeat_180d",
           "2022-1/not active >6m",
           "2022-1/not active >1y",
           "2022-1/new",
           "2022-1/repeat_90d",
           "2022-2/repeat_30d",
           "2022-2/repeat_180d",
           "2022-2/not active >6m",
           "2022-2/not active >1y",
           "2022-2/new",
           "2022-2/repeat_90d",
           "2022-3/repeat_30d",
           "2022-3/repeat_180d",
           "2022-3/not active >6m",
           "2022-3/not active >1y",
           "2022-3/new",
           "2022-3/repeat_90d",
           "2022-4/repeat_30d",
           "2022-4/repeat_180d",
           "2022-4/not active >6m",
           "2022-4/not active >1y",
           "2022-4/new",
           "2022-4/repeat_90d",
           "2022-5/repeat_30d",
           "2022-5/repeat_180d",
           "2022-5/not active >6m",
           "2022-5/not active >1y",
           "2022-5/new",
           "2022-5/repeat_90d",
           "2022-6/repeat_30d",
           "2022-6/repeat_180d",
           "2022-6/not active >6m",
           "2022-6/not active >1y",
           "2022-6/new",
           "2022-6/repeat_90d",
           "2022-7/repeat_30d",
           "2022-7/repeat_180d",
           "2022-7/not active >6m",
           "2022-7/not active >1y",
           "2022-7/new",
           "2022-7/repeat_90d",
           "2022-8/repeat_30d",
           "2022-8/repeat_180d",
           "2022-8/not active >6m",
           "2022-8/not active >1y",
           "2022-8/new",
           "2022-8/repeat_90d"
          ],
          "line": {
           "color": "black",
           "width": 0.5
          },
          "pad": 15,
          "thickness": 20
         },
         "type": "sankey"
        }
       ],
       "layout": {
        "font": {
         "size": 10
        },
        "template": {
         "data": {
          "bar": [
           {
            "error_x": {
             "color": "#2a3f5f"
            },
            "error_y": {
             "color": "#2a3f5f"
            },
            "marker": {
             "line": {
              "color": "#E5ECF6",
              "width": 0.5
             },
             "pattern": {
              "fillmode": "overlay",
              "size": 10,
              "solidity": 0.2
             }
            },
            "type": "bar"
           }
          ],
          "barpolar": [
           {
            "marker": {
             "line": {
              "color": "#E5ECF6",
              "width": 0.5
             },
             "pattern": {
              "fillmode": "overlay",
              "size": 10,
              "solidity": 0.2
             }
            },
            "type": "barpolar"
           }
          ],
          "carpet": [
           {
            "aaxis": {
             "endlinecolor": "#2a3f5f",
             "gridcolor": "white",
             "linecolor": "white",
             "minorgridcolor": "white",
             "startlinecolor": "#2a3f5f"
            },
            "baxis": {
             "endlinecolor": "#2a3f5f",
             "gridcolor": "white",
             "linecolor": "white",
             "minorgridcolor": "white",
             "startlinecolor": "#2a3f5f"
            },
            "type": "carpet"
           }
          ],
          "choropleth": [
           {
            "colorbar": {
             "outlinewidth": 0,
             "ticks": ""
            },
            "type": "choropleth"
           }
          ],
          "contour": [
           {
            "colorbar": {
             "outlinewidth": 0,
             "ticks": ""
            },
            "colorscale": [
             [
              0,
              "#0d0887"
             ],
             [
              0.1111111111111111,
              "#46039f"
             ],
             [
              0.2222222222222222,
              "#7201a8"
             ],
             [
              0.3333333333333333,
              "#9c179e"
             ],
             [
              0.4444444444444444,
              "#bd3786"
             ],
             [
              0.5555555555555556,
              "#d8576b"
             ],
             [
              0.6666666666666666,
              "#ed7953"
             ],
             [
              0.7777777777777778,
              "#fb9f3a"
             ],
             [
              0.8888888888888888,
              "#fdca26"
             ],
             [
              1,
              "#f0f921"
             ]
            ],
            "type": "contour"
           }
          ],
          "contourcarpet": [
           {
            "colorbar": {
             "outlinewidth": 0,
             "ticks": ""
            },
            "type": "contourcarpet"
           }
          ],
          "heatmap": [
           {
            "colorbar": {
             "outlinewidth": 0,
             "ticks": ""
            },
            "colorscale": [
             [
              0,
              "#0d0887"
             ],
             [
              0.1111111111111111,
              "#46039f"
             ],
             [
              0.2222222222222222,
              "#7201a8"
             ],
             [
              0.3333333333333333,
              "#9c179e"
             ],
             [
              0.4444444444444444,
              "#bd3786"
             ],
             [
              0.5555555555555556,
              "#d8576b"
             ],
             [
              0.6666666666666666,
              "#ed7953"
             ],
             [
              0.7777777777777778,
              "#fb9f3a"
             ],
             [
              0.8888888888888888,
              "#fdca26"
             ],
             [
              1,
              "#f0f921"
             ]
            ],
            "type": "heatmap"
           }
          ],
          "heatmapgl": [
           {
            "colorbar": {
             "outlinewidth": 0,
             "ticks": ""
            },
            "colorscale": [
             [
              0,
              "#0d0887"
             ],
             [
              0.1111111111111111,
              "#46039f"
             ],
             [
              0.2222222222222222,
              "#7201a8"
             ],
             [
              0.3333333333333333,
              "#9c179e"
             ],
             [
              0.4444444444444444,
              "#bd3786"
             ],
             [
              0.5555555555555556,
              "#d8576b"
             ],
             [
              0.6666666666666666,
              "#ed7953"
             ],
             [
              0.7777777777777778,
              "#fb9f3a"
             ],
             [
              0.8888888888888888,
              "#fdca26"
             ],
             [
              1,
              "#f0f921"
             ]
            ],
            "type": "heatmapgl"
           }
          ],
          "histogram": [
           {
            "marker": {
             "pattern": {
              "fillmode": "overlay",
              "size": 10,
              "solidity": 0.2
             }
            },
            "type": "histogram"
           }
          ],
          "histogram2d": [
           {
            "colorbar": {
             "outlinewidth": 0,
             "ticks": ""
            },
            "colorscale": [
             [
              0,
              "#0d0887"
             ],
             [
              0.1111111111111111,
              "#46039f"
             ],
             [
              0.2222222222222222,
              "#7201a8"
             ],
             [
              0.3333333333333333,
              "#9c179e"
             ],
             [
              0.4444444444444444,
              "#bd3786"
             ],
             [
              0.5555555555555556,
              "#d8576b"
             ],
             [
              0.6666666666666666,
              "#ed7953"
             ],
             [
              0.7777777777777778,
              "#fb9f3a"
             ],
             [
              0.8888888888888888,
              "#fdca26"
             ],
             [
              1,
              "#f0f921"
             ]
            ],
            "type": "histogram2d"
           }
          ],
          "histogram2dcontour": [
           {
            "colorbar": {
             "outlinewidth": 0,
             "ticks": ""
            },
            "colorscale": [
             [
              0,
              "#0d0887"
             ],
             [
              0.1111111111111111,
              "#46039f"
             ],
             [
              0.2222222222222222,
              "#7201a8"
             ],
             [
              0.3333333333333333,
              "#9c179e"
             ],
             [
              0.4444444444444444,
              "#bd3786"
             ],
             [
              0.5555555555555556,
              "#d8576b"
             ],
             [
              0.6666666666666666,
              "#ed7953"
             ],
             [
              0.7777777777777778,
              "#fb9f3a"
             ],
             [
              0.8888888888888888,
              "#fdca26"
             ],
             [
              1,
              "#f0f921"
             ]
            ],
            "type": "histogram2dcontour"
           }
          ],
          "mesh3d": [
           {
            "colorbar": {
             "outlinewidth": 0,
             "ticks": ""
            },
            "type": "mesh3d"
           }
          ],
          "parcoords": [
           {
            "line": {
             "colorbar": {
              "outlinewidth": 0,
              "ticks": ""
             }
            },
            "type": "parcoords"
           }
          ],
          "pie": [
           {
            "automargin": true,
            "type": "pie"
           }
          ],
          "scatter": [
           {
            "fillpattern": {
             "fillmode": "overlay",
             "size": 10,
             "solidity": 0.2
            },
            "type": "scatter"
           }
          ],
          "scatter3d": [
           {
            "line": {
             "colorbar": {
              "outlinewidth": 0,
              "ticks": ""
             }
            },
            "marker": {
             "colorbar": {
              "outlinewidth": 0,
              "ticks": ""
             }
            },
            "type": "scatter3d"
           }
          ],
          "scattercarpet": [
           {
            "marker": {
             "colorbar": {
              "outlinewidth": 0,
              "ticks": ""
             }
            },
            "type": "scattercarpet"
           }
          ],
          "scattergeo": [
           {
            "marker": {
             "colorbar": {
              "outlinewidth": 0,
              "ticks": ""
             }
            },
            "type": "scattergeo"
           }
          ],
          "scattergl": [
           {
            "marker": {
             "colorbar": {
              "outlinewidth": 0,
              "ticks": ""
             }
            },
            "type": "scattergl"
           }
          ],
          "scattermapbox": [
           {
            "marker": {
             "colorbar": {
              "outlinewidth": 0,
              "ticks": ""
             }
            },
            "type": "scattermapbox"
           }
          ],
          "scatterpolar": [
           {
            "marker": {
             "colorbar": {
              "outlinewidth": 0,
              "ticks": ""
             }
            },
            "type": "scatterpolar"
           }
          ],
          "scatterpolargl": [
           {
            "marker": {
             "colorbar": {
              "outlinewidth": 0,
              "ticks": ""
             }
            },
            "type": "scatterpolargl"
           }
          ],
          "scatterternary": [
           {
            "marker": {
             "colorbar": {
              "outlinewidth": 0,
              "ticks": ""
             }
            },
            "type": "scatterternary"
           }
          ],
          "surface": [
           {
            "colorbar": {
             "outlinewidth": 0,
             "ticks": ""
            },
            "colorscale": [
             [
              0,
              "#0d0887"
             ],
             [
              0.1111111111111111,
              "#46039f"
             ],
             [
              0.2222222222222222,
              "#7201a8"
             ],
             [
              0.3333333333333333,
              "#9c179e"
             ],
             [
              0.4444444444444444,
              "#bd3786"
             ],
             [
              0.5555555555555556,
              "#d8576b"
             ],
             [
              0.6666666666666666,
              "#ed7953"
             ],
             [
              0.7777777777777778,
              "#fb9f3a"
             ],
             [
              0.8888888888888888,
              "#fdca26"
             ],
             [
              1,
              "#f0f921"
             ]
            ],
            "type": "surface"
           }
          ],
          "table": [
           {
            "cells": {
             "fill": {
              "color": "#EBF0F8"
             },
             "line": {
              "color": "white"
             }
            },
            "header": {
             "fill": {
              "color": "#C8D4E3"
             },
             "line": {
              "color": "white"
             }
            },
            "type": "table"
           }
          ]
         },
         "layout": {
          "annotationdefaults": {
           "arrowcolor": "#2a3f5f",
           "arrowhead": 0,
           "arrowwidth": 1
          },
          "autotypenumbers": "strict",
          "coloraxis": {
           "colorbar": {
            "outlinewidth": 0,
            "ticks": ""
           }
          },
          "colorscale": {
           "diverging": [
            [
             0,
             "#8e0152"
            ],
            [
             0.1,
             "#c51b7d"
            ],
            [
             0.2,
             "#de77ae"
            ],
            [
             0.3,
             "#f1b6da"
            ],
            [
             0.4,
             "#fde0ef"
            ],
            [
             0.5,
             "#f7f7f7"
            ],
            [
             0.6,
             "#e6f5d0"
            ],
            [
             0.7,
             "#b8e186"
            ],
            [
             0.8,
             "#7fbc41"
            ],
            [
             0.9,
             "#4d9221"
            ],
            [
             1,
             "#276419"
            ]
           ],
           "sequential": [
            [
             0,
             "#0d0887"
            ],
            [
             0.1111111111111111,
             "#46039f"
            ],
            [
             0.2222222222222222,
             "#7201a8"
            ],
            [
             0.3333333333333333,
             "#9c179e"
            ],
            [
             0.4444444444444444,
             "#bd3786"
            ],
            [
             0.5555555555555556,
             "#d8576b"
            ],
            [
             0.6666666666666666,
             "#ed7953"
            ],
            [
             0.7777777777777778,
             "#fb9f3a"
            ],
            [
             0.8888888888888888,
             "#fdca26"
            ],
            [
             1,
             "#f0f921"
            ]
           ],
           "sequentialminus": [
            [
             0,
             "#0d0887"
            ],
            [
             0.1111111111111111,
             "#46039f"
            ],
            [
             0.2222222222222222,
             "#7201a8"
            ],
            [
             0.3333333333333333,
             "#9c179e"
            ],
            [
             0.4444444444444444,
             "#bd3786"
            ],
            [
             0.5555555555555556,
             "#d8576b"
            ],
            [
             0.6666666666666666,
             "#ed7953"
            ],
            [
             0.7777777777777778,
             "#fb9f3a"
            ],
            [
             0.8888888888888888,
             "#fdca26"
            ],
            [
             1,
             "#f0f921"
            ]
           ]
          },
          "colorway": [
           "#636efa",
           "#EF553B",
           "#00cc96",
           "#ab63fa",
           "#FFA15A",
           "#19d3f3",
           "#FF6692",
           "#B6E880",
           "#FF97FF",
           "#FECB52"
          ],
          "font": {
           "color": "#2a3f5f"
          },
          "geo": {
           "bgcolor": "white",
           "lakecolor": "white",
           "landcolor": "#E5ECF6",
           "showlakes": true,
           "showland": true,
           "subunitcolor": "white"
          },
          "hoverlabel": {
           "align": "left"
          },
          "hovermode": "closest",
          "mapbox": {
           "style": "light"
          },
          "paper_bgcolor": "white",
          "plot_bgcolor": "#E5ECF6",
          "polar": {
           "angularaxis": {
            "gridcolor": "white",
            "linecolor": "white",
            "ticks": ""
           },
           "bgcolor": "#E5ECF6",
           "radialaxis": {
            "gridcolor": "white",
            "linecolor": "white",
            "ticks": ""
           }
          },
          "scene": {
           "xaxis": {
            "backgroundcolor": "#E5ECF6",
            "gridcolor": "white",
            "gridwidth": 2,
            "linecolor": "white",
            "showbackground": true,
            "ticks": "",
            "zerolinecolor": "white"
           },
           "yaxis": {
            "backgroundcolor": "#E5ECF6",
            "gridcolor": "white",
            "gridwidth": 2,
            "linecolor": "white",
            "showbackground": true,
            "ticks": "",
            "zerolinecolor": "white"
           },
           "zaxis": {
            "backgroundcolor": "#E5ECF6",
            "gridcolor": "white",
            "gridwidth": 2,
            "linecolor": "white",
            "showbackground": true,
            "ticks": "",
            "zerolinecolor": "white"
           }
          },
          "shapedefaults": {
           "line": {
            "color": "#2a3f5f"
           }
          },
          "ternary": {
           "aaxis": {
            "gridcolor": "white",
            "linecolor": "white",
            "ticks": ""
           },
           "baxis": {
            "gridcolor": "white",
            "linecolor": "white",
            "ticks": ""
           },
           "bgcolor": "#E5ECF6",
           "caxis": {
            "gridcolor": "white",
            "linecolor": "white",
            "ticks": ""
           }
          },
          "title": {
           "x": 0.05
          },
          "xaxis": {
           "automargin": true,
           "gridcolor": "white",
           "linecolor": "white",
           "ticks": "",
           "title": {
            "standoff": 15
           },
           "zerolinecolor": "white",
           "zerolinewidth": 2
          },
          "yaxis": {
           "automargin": true,
           "gridcolor": "white",
           "linecolor": "white",
           "ticks": "",
           "title": {
            "standoff": 15
           },
           "zerolinecolor": "white",
           "zerolinewidth": 2
          }
         }
        },
        "title": {
         "text": "#Wallets of 1Inch users by group and month"
        }
       }
      }
     },
     "metadata": {},
     "output_type": "display_data"
    }
   ],
   "source": [
    "\n",
    "\n",
    "\n",
    "\n",
    "\n",
    "# override gray link colors with 'source' colors\n",
    "opacity = 0.4\n",
    "# change 'magenta' to its 'rgba' value to add opacity\n",
    "# data['data'][0]['node']['color'] = ['rgba(255,0,255, 0.8)' if color == \"magenta\" else color for color in data['data'][0]['node']['color']]\n",
    "# data['data'][0]['link']['color'] = [data['data'][0]['node']['color'][src].replace(\"0.8\", str(opacity))\n",
    "#                                     for src in data['data'][0]['link']['source']]\n",
    "fig = go.Figure(data=[go.Sankey(\n",
    "    node = dict(\n",
    "      pad = 15,\n",
    "      thickness = 20,\n",
    "      line = dict(color = \"black\", width = 0.5),\n",
    "      label = lst_node_labels,\n",
    "      color = lst_colors\n",
    "    ),\n",
    "    link = dict(\n",
    "      source = df_sankey.source, # indices correspond to labels, eg A1, A2, A1, B1, ...\n",
    "      target = df_sankey.target,\n",
    "      value = df_sankey['num_wallets']\n",
    "      # label = np.repeat('',len())\n",
    "      # color=lst_colors\n",
    "  ))])\n",
    "\n",
    "fig.update_layout(title_text=\"#Wallets of 1Inch users by group and month\", font_size=10)\n",
    "fig.show()\n",
    "\n",
    "# fig.write_html('wallets_sankey.html')"
   ]
  },
  {
   "cell_type": "code",
   "execution_count": 44,
   "metadata": {},
   "outputs": [
    {
     "data": {
      "application/vnd.plotly.v1+json": {
       "config": {
        "plotlyServerURL": "https://plot.ly"
       },
       "data": [
        {
         "link": {
          "label": [
           "0.0k",
           "121558.38k",
           "0.0k",
           "96604.11k",
           "413288.74k",
           "934432.35k",
           "9483324.76k",
           "2328880.17k",
           "0.0k",
           "5054.24k",
           "0.0k",
           "28815.28k",
           "95703.64k",
           "7023.82k",
           "36160.46k",
           "189866.63k",
           "50766.6k",
           "174492.43k",
           "506859.9k",
           "218582.03k",
           "7490029.31k",
           "1151396.05k",
           "0.0k",
           "29778.33k",
           "0.0k",
           "71840.31k",
           "6827.7k",
           "19055.25k",
           "111245.75k",
           "23421.39k",
           "59434.83k",
           "175871.75k",
           "158731.88k",
           "418239.28k",
           "6507448.08k",
           "614372.86k",
           "0.0k",
           "0.0k",
           "0.0k",
           "874680.21k",
           "780149.16k",
           "0.0k",
           "0.0k",
           "163105.99k",
           "69023.04k",
           "0.0k",
           "212001.21k",
           "276104.53k",
           "0.0k",
           "975188.94k",
           "8252678.13k",
           "25070.89k",
           "0.0k",
           "0.0k",
           "0.0k",
           "0.0k",
           "0.0k",
           "0.0k",
           "2224976.35k",
           "0.0k",
           "0.0k",
           "0.0k",
           "0.0k",
           "9403025.75k",
           "0.0k",
           "18264.91k",
           "0.0k",
           "154564.55k",
           "372221.41k",
           "684348.29k",
           "11895010.24k",
           "0.0k",
           "42849.28k",
           "0.0k",
           "77560.39k",
           "53995.93k",
           "897955.95k",
           "58190.66k",
           "17679.71k",
           "12607.7k",
           "323886.99k",
           "102420.61k",
           "30634.3k",
           "230391.17k",
           "1323.82k",
           "164723.06k",
           "7580990.71k",
           "1420150.12k",
           "0.0k",
           "13234.76k",
           "0.0k",
           "29559.3k",
           "37392.42k",
           "9728.0k",
           "30110.55k",
           "24556.35k",
           "18074.96k",
           "45091.92k",
           "108247.56k",
           "152294.08k",
           "4841046.36k",
           "1696081.03k"
          ],
          "source": [
           3,
           3,
           2,
           2,
           1,
           5,
           0,
           4,
           9,
           9,
           8,
           8,
           8,
           7,
           7,
           7,
           11,
           11,
           11,
           6,
           6,
           10,
           15,
           15,
           14,
           14,
           14,
           13,
           13,
           13,
           17,
           17,
           17,
           12,
           12,
           16,
           21,
           21,
           20,
           20,
           20,
           19,
           19,
           19,
           19,
           23,
           23,
           23,
           18,
           18,
           18,
           22,
           27,
           26,
           26,
           25,
           25,
           29,
           29,
           24,
           24,
           24,
           24,
           24,
           33,
           33,
           32,
           32,
           31,
           35,
           30,
           39,
           39,
           38,
           38,
           38,
           38,
           37,
           37,
           37,
           37,
           41,
           41,
           41,
           36,
           36,
           36,
           40,
           45,
           45,
           44,
           44,
           44,
           43,
           43,
           43,
           47,
           47,
           47,
           42,
           42,
           46
          ],
          "target": [
           9,
           8,
           9,
           8,
           7,
           11,
           6,
           6,
           15,
           14,
           15,
           14,
           12,
           14,
           13,
           12,
           13,
           17,
           12,
           17,
           12,
           12,
           21,
           20,
           21,
           20,
           18,
           20,
           19,
           18,
           19,
           23,
           18,
           23,
           18,
           18,
           27,
           26,
           26,
           29,
           24,
           26,
           25,
           29,
           24,
           25,
           29,
           24,
           25,
           29,
           24,
           24,
           33,
           32,
           31,
           31,
           35,
           35,
           30,
           33,
           32,
           31,
           35,
           30,
           39,
           38,
           39,
           38,
           37,
           41,
           36,
           45,
           44,
           45,
           44,
           47,
           42,
           44,
           43,
           47,
           42,
           43,
           47,
           42,
           43,
           47,
           42,
           42,
           51,
           50,
           51,
           50,
           48,
           50,
           49,
           48,
           49,
           53,
           48,
           53,
           48,
           48
          ],
          "value": [
           0,
           121558376.03953823,
           0,
           96604107.57220958,
           413288735.5708781,
           934432351.531438,
           9483324760.762928,
           2328880169.7091346,
           0,
           5054243.922566666,
           0,
           28815276.593075227,
           95703644.01112959,
           7023821.761519825,
           36160459.810613476,
           189866628.76316345,
           50766598.709295146,
           174492431.3753394,
           506859901.4179727,
           218582026.71761888,
           7490029306.341026,
           1151396045.4530256,
           0,
           29778332.09104106,
           0,
           71840305.42662482,
           6827702.458796031,
           19055250.67692082,
           111245751.84840706,
           23421386.488639798,
           59434832.25877482,
           175871745.30644986,
           158731880.68427533,
           418239277.7710079,
           6507448077.888015,
           614372860.7654458,
           0,
           0,
           0,
           874680209.8119162,
           780149156.8462421,
           0,
           0,
           163105989.6459008,
           69023039.32621656,
           0,
           212001211.41985878,
           276104530.61949366,
           0,
           975188941.0661558,
           8252678134.08115,
           25070889.64340893,
           0,
           0,
           0,
           0,
           0,
           0,
           2224976351.9438314,
           0,
           0,
           0,
           0,
           9403025750.51651,
           0,
           18264914.51326501,
           0,
           154564549.43471032,
           372221409.27167124,
           684348290.2892789,
           11895010244.931414,
           0,
           42849276.757673115,
           0,
           77560385.7836058,
           53995925.65132977,
           897955950.6809304,
           58190661.96551241,
           17679709.87584613,
           12607697.0302377,
           323886988.97982806,
           102420613.71558934,
           30634295.763758384,
           230391169.68649188,
           1323815.1608450813,
           164723062.08457312,
           7580990705.347742,
           1420150118.1741798,
           0,
           13234763.694549754,
           0,
           29559298.34916556,
           37392417.01348929,
           9728000.692429189,
           30110550.622441694,
           24556354.723104574,
           18074959.13362189,
           45091923.97408715,
           108247556.06506656,
           152294078.8337645,
           4841046358.493632,
           1696081030.8489344
          ]
         },
         "node": {
          "color": [
           "lightgreen",
           "steelblue",
           "mediumpurple",
           "indigo",
           "yellow",
           "darkgreen",
           "lightgreen",
           "steelblue",
           "mediumpurple",
           "indigo",
           "yellow",
           "darkgreen",
           "lightgreen",
           "steelblue",
           "mediumpurple",
           "indigo",
           "yellow",
           "darkgreen",
           "lightgreen",
           "steelblue",
           "mediumpurple",
           "indigo",
           "yellow",
           "darkgreen",
           "lightgreen",
           "steelblue",
           "mediumpurple",
           "indigo",
           "yellow",
           "darkgreen",
           "lightgreen",
           "steelblue",
           "mediumpurple",
           "indigo",
           "yellow",
           "darkgreen",
           "lightgreen",
           "steelblue",
           "mediumpurple",
           "indigo",
           "yellow",
           "darkgreen",
           "lightgreen",
           "steelblue",
           "mediumpurple",
           "indigo",
           "yellow",
           "darkgreen",
           "lightgreen",
           "steelblue",
           "mediumpurple",
           "indigo",
           "yellow",
           "darkgreen"
          ],
          "label": [
           "2021-12/repeat_30d",
           "2021-12/repeat_180d",
           "2021-12/not active >6m",
           "2021-12/not active >1y",
           "2021-12/new",
           "2021-12/repeat_90d",
           "2022-1/repeat_30d",
           "2022-1/repeat_180d",
           "2022-1/not active >6m",
           "2022-1/not active >1y",
           "2022-1/new",
           "2022-1/repeat_90d",
           "2022-2/repeat_30d",
           "2022-2/repeat_180d",
           "2022-2/not active >6m",
           "2022-2/not active >1y",
           "2022-2/new",
           "2022-2/repeat_90d",
           "2022-3/repeat_30d",
           "2022-3/repeat_180d",
           "2022-3/not active >6m",
           "2022-3/not active >1y",
           "2022-3/new",
           "2022-3/repeat_90d",
           "2022-4/repeat_30d",
           "2022-4/repeat_180d",
           "2022-4/not active >6m",
           "2022-4/not active >1y",
           "2022-4/new",
           "2022-4/repeat_90d",
           "2022-5/repeat_30d",
           "2022-5/repeat_180d",
           "2022-5/not active >6m",
           "2022-5/not active >1y",
           "2022-5/new",
           "2022-5/repeat_90d",
           "2022-6/repeat_30d",
           "2022-6/repeat_180d",
           "2022-6/not active >6m",
           "2022-6/not active >1y",
           "2022-6/new",
           "2022-6/repeat_90d",
           "2022-7/repeat_30d",
           "2022-7/repeat_180d",
           "2022-7/not active >6m",
           "2022-7/not active >1y",
           "2022-7/new",
           "2022-7/repeat_90d",
           "2022-8/repeat_30d",
           "2022-8/repeat_180d",
           "2022-8/not active >6m",
           "2022-8/not active >1y",
           "2022-8/new",
           "2022-8/repeat_90d"
          ],
          "line": {
           "color": "black",
           "width": 0.5
          },
          "pad": 15,
          "thickness": 20
         },
         "type": "sankey"
        }
       ],
       "layout": {
        "font": {
         "size": 10
        },
        "template": {
         "data": {
          "bar": [
           {
            "error_x": {
             "color": "#2a3f5f"
            },
            "error_y": {
             "color": "#2a3f5f"
            },
            "marker": {
             "line": {
              "color": "#E5ECF6",
              "width": 0.5
             },
             "pattern": {
              "fillmode": "overlay",
              "size": 10,
              "solidity": 0.2
             }
            },
            "type": "bar"
           }
          ],
          "barpolar": [
           {
            "marker": {
             "line": {
              "color": "#E5ECF6",
              "width": 0.5
             },
             "pattern": {
              "fillmode": "overlay",
              "size": 10,
              "solidity": 0.2
             }
            },
            "type": "barpolar"
           }
          ],
          "carpet": [
           {
            "aaxis": {
             "endlinecolor": "#2a3f5f",
             "gridcolor": "white",
             "linecolor": "white",
             "minorgridcolor": "white",
             "startlinecolor": "#2a3f5f"
            },
            "baxis": {
             "endlinecolor": "#2a3f5f",
             "gridcolor": "white",
             "linecolor": "white",
             "minorgridcolor": "white",
             "startlinecolor": "#2a3f5f"
            },
            "type": "carpet"
           }
          ],
          "choropleth": [
           {
            "colorbar": {
             "outlinewidth": 0,
             "ticks": ""
            },
            "type": "choropleth"
           }
          ],
          "contour": [
           {
            "colorbar": {
             "outlinewidth": 0,
             "ticks": ""
            },
            "colorscale": [
             [
              0,
              "#0d0887"
             ],
             [
              0.1111111111111111,
              "#46039f"
             ],
             [
              0.2222222222222222,
              "#7201a8"
             ],
             [
              0.3333333333333333,
              "#9c179e"
             ],
             [
              0.4444444444444444,
              "#bd3786"
             ],
             [
              0.5555555555555556,
              "#d8576b"
             ],
             [
              0.6666666666666666,
              "#ed7953"
             ],
             [
              0.7777777777777778,
              "#fb9f3a"
             ],
             [
              0.8888888888888888,
              "#fdca26"
             ],
             [
              1,
              "#f0f921"
             ]
            ],
            "type": "contour"
           }
          ],
          "contourcarpet": [
           {
            "colorbar": {
             "outlinewidth": 0,
             "ticks": ""
            },
            "type": "contourcarpet"
           }
          ],
          "heatmap": [
           {
            "colorbar": {
             "outlinewidth": 0,
             "ticks": ""
            },
            "colorscale": [
             [
              0,
              "#0d0887"
             ],
             [
              0.1111111111111111,
              "#46039f"
             ],
             [
              0.2222222222222222,
              "#7201a8"
             ],
             [
              0.3333333333333333,
              "#9c179e"
             ],
             [
              0.4444444444444444,
              "#bd3786"
             ],
             [
              0.5555555555555556,
              "#d8576b"
             ],
             [
              0.6666666666666666,
              "#ed7953"
             ],
             [
              0.7777777777777778,
              "#fb9f3a"
             ],
             [
              0.8888888888888888,
              "#fdca26"
             ],
             [
              1,
              "#f0f921"
             ]
            ],
            "type": "heatmap"
           }
          ],
          "heatmapgl": [
           {
            "colorbar": {
             "outlinewidth": 0,
             "ticks": ""
            },
            "colorscale": [
             [
              0,
              "#0d0887"
             ],
             [
              0.1111111111111111,
              "#46039f"
             ],
             [
              0.2222222222222222,
              "#7201a8"
             ],
             [
              0.3333333333333333,
              "#9c179e"
             ],
             [
              0.4444444444444444,
              "#bd3786"
             ],
             [
              0.5555555555555556,
              "#d8576b"
             ],
             [
              0.6666666666666666,
              "#ed7953"
             ],
             [
              0.7777777777777778,
              "#fb9f3a"
             ],
             [
              0.8888888888888888,
              "#fdca26"
             ],
             [
              1,
              "#f0f921"
             ]
            ],
            "type": "heatmapgl"
           }
          ],
          "histogram": [
           {
            "marker": {
             "pattern": {
              "fillmode": "overlay",
              "size": 10,
              "solidity": 0.2
             }
            },
            "type": "histogram"
           }
          ],
          "histogram2d": [
           {
            "colorbar": {
             "outlinewidth": 0,
             "ticks": ""
            },
            "colorscale": [
             [
              0,
              "#0d0887"
             ],
             [
              0.1111111111111111,
              "#46039f"
             ],
             [
              0.2222222222222222,
              "#7201a8"
             ],
             [
              0.3333333333333333,
              "#9c179e"
             ],
             [
              0.4444444444444444,
              "#bd3786"
             ],
             [
              0.5555555555555556,
              "#d8576b"
             ],
             [
              0.6666666666666666,
              "#ed7953"
             ],
             [
              0.7777777777777778,
              "#fb9f3a"
             ],
             [
              0.8888888888888888,
              "#fdca26"
             ],
             [
              1,
              "#f0f921"
             ]
            ],
            "type": "histogram2d"
           }
          ],
          "histogram2dcontour": [
           {
            "colorbar": {
             "outlinewidth": 0,
             "ticks": ""
            },
            "colorscale": [
             [
              0,
              "#0d0887"
             ],
             [
              0.1111111111111111,
              "#46039f"
             ],
             [
              0.2222222222222222,
              "#7201a8"
             ],
             [
              0.3333333333333333,
              "#9c179e"
             ],
             [
              0.4444444444444444,
              "#bd3786"
             ],
             [
              0.5555555555555556,
              "#d8576b"
             ],
             [
              0.6666666666666666,
              "#ed7953"
             ],
             [
              0.7777777777777778,
              "#fb9f3a"
             ],
             [
              0.8888888888888888,
              "#fdca26"
             ],
             [
              1,
              "#f0f921"
             ]
            ],
            "type": "histogram2dcontour"
           }
          ],
          "mesh3d": [
           {
            "colorbar": {
             "outlinewidth": 0,
             "ticks": ""
            },
            "type": "mesh3d"
           }
          ],
          "parcoords": [
           {
            "line": {
             "colorbar": {
              "outlinewidth": 0,
              "ticks": ""
             }
            },
            "type": "parcoords"
           }
          ],
          "pie": [
           {
            "automargin": true,
            "type": "pie"
           }
          ],
          "scatter": [
           {
            "fillpattern": {
             "fillmode": "overlay",
             "size": 10,
             "solidity": 0.2
            },
            "type": "scatter"
           }
          ],
          "scatter3d": [
           {
            "line": {
             "colorbar": {
              "outlinewidth": 0,
              "ticks": ""
             }
            },
            "marker": {
             "colorbar": {
              "outlinewidth": 0,
              "ticks": ""
             }
            },
            "type": "scatter3d"
           }
          ],
          "scattercarpet": [
           {
            "marker": {
             "colorbar": {
              "outlinewidth": 0,
              "ticks": ""
             }
            },
            "type": "scattercarpet"
           }
          ],
          "scattergeo": [
           {
            "marker": {
             "colorbar": {
              "outlinewidth": 0,
              "ticks": ""
             }
            },
            "type": "scattergeo"
           }
          ],
          "scattergl": [
           {
            "marker": {
             "colorbar": {
              "outlinewidth": 0,
              "ticks": ""
             }
            },
            "type": "scattergl"
           }
          ],
          "scattermapbox": [
           {
            "marker": {
             "colorbar": {
              "outlinewidth": 0,
              "ticks": ""
             }
            },
            "type": "scattermapbox"
           }
          ],
          "scatterpolar": [
           {
            "marker": {
             "colorbar": {
              "outlinewidth": 0,
              "ticks": ""
             }
            },
            "type": "scatterpolar"
           }
          ],
          "scatterpolargl": [
           {
            "marker": {
             "colorbar": {
              "outlinewidth": 0,
              "ticks": ""
             }
            },
            "type": "scatterpolargl"
           }
          ],
          "scatterternary": [
           {
            "marker": {
             "colorbar": {
              "outlinewidth": 0,
              "ticks": ""
             }
            },
            "type": "scatterternary"
           }
          ],
          "surface": [
           {
            "colorbar": {
             "outlinewidth": 0,
             "ticks": ""
            },
            "colorscale": [
             [
              0,
              "#0d0887"
             ],
             [
              0.1111111111111111,
              "#46039f"
             ],
             [
              0.2222222222222222,
              "#7201a8"
             ],
             [
              0.3333333333333333,
              "#9c179e"
             ],
             [
              0.4444444444444444,
              "#bd3786"
             ],
             [
              0.5555555555555556,
              "#d8576b"
             ],
             [
              0.6666666666666666,
              "#ed7953"
             ],
             [
              0.7777777777777778,
              "#fb9f3a"
             ],
             [
              0.8888888888888888,
              "#fdca26"
             ],
             [
              1,
              "#f0f921"
             ]
            ],
            "type": "surface"
           }
          ],
          "table": [
           {
            "cells": {
             "fill": {
              "color": "#EBF0F8"
             },
             "line": {
              "color": "white"
             }
            },
            "header": {
             "fill": {
              "color": "#C8D4E3"
             },
             "line": {
              "color": "white"
             }
            },
            "type": "table"
           }
          ]
         },
         "layout": {
          "annotationdefaults": {
           "arrowcolor": "#2a3f5f",
           "arrowhead": 0,
           "arrowwidth": 1
          },
          "autotypenumbers": "strict",
          "coloraxis": {
           "colorbar": {
            "outlinewidth": 0,
            "ticks": ""
           }
          },
          "colorscale": {
           "diverging": [
            [
             0,
             "#8e0152"
            ],
            [
             0.1,
             "#c51b7d"
            ],
            [
             0.2,
             "#de77ae"
            ],
            [
             0.3,
             "#f1b6da"
            ],
            [
             0.4,
             "#fde0ef"
            ],
            [
             0.5,
             "#f7f7f7"
            ],
            [
             0.6,
             "#e6f5d0"
            ],
            [
             0.7,
             "#b8e186"
            ],
            [
             0.8,
             "#7fbc41"
            ],
            [
             0.9,
             "#4d9221"
            ],
            [
             1,
             "#276419"
            ]
           ],
           "sequential": [
            [
             0,
             "#0d0887"
            ],
            [
             0.1111111111111111,
             "#46039f"
            ],
            [
             0.2222222222222222,
             "#7201a8"
            ],
            [
             0.3333333333333333,
             "#9c179e"
            ],
            [
             0.4444444444444444,
             "#bd3786"
            ],
            [
             0.5555555555555556,
             "#d8576b"
            ],
            [
             0.6666666666666666,
             "#ed7953"
            ],
            [
             0.7777777777777778,
             "#fb9f3a"
            ],
            [
             0.8888888888888888,
             "#fdca26"
            ],
            [
             1,
             "#f0f921"
            ]
           ],
           "sequentialminus": [
            [
             0,
             "#0d0887"
            ],
            [
             0.1111111111111111,
             "#46039f"
            ],
            [
             0.2222222222222222,
             "#7201a8"
            ],
            [
             0.3333333333333333,
             "#9c179e"
            ],
            [
             0.4444444444444444,
             "#bd3786"
            ],
            [
             0.5555555555555556,
             "#d8576b"
            ],
            [
             0.6666666666666666,
             "#ed7953"
            ],
            [
             0.7777777777777778,
             "#fb9f3a"
            ],
            [
             0.8888888888888888,
             "#fdca26"
            ],
            [
             1,
             "#f0f921"
            ]
           ]
          },
          "colorway": [
           "#636efa",
           "#EF553B",
           "#00cc96",
           "#ab63fa",
           "#FFA15A",
           "#19d3f3",
           "#FF6692",
           "#B6E880",
           "#FF97FF",
           "#FECB52"
          ],
          "font": {
           "color": "#2a3f5f"
          },
          "geo": {
           "bgcolor": "white",
           "lakecolor": "white",
           "landcolor": "#E5ECF6",
           "showlakes": true,
           "showland": true,
           "subunitcolor": "white"
          },
          "hoverlabel": {
           "align": "left"
          },
          "hovermode": "closest",
          "mapbox": {
           "style": "light"
          },
          "paper_bgcolor": "white",
          "plot_bgcolor": "#E5ECF6",
          "polar": {
           "angularaxis": {
            "gridcolor": "white",
            "linecolor": "white",
            "ticks": ""
           },
           "bgcolor": "#E5ECF6",
           "radialaxis": {
            "gridcolor": "white",
            "linecolor": "white",
            "ticks": ""
           }
          },
          "scene": {
           "xaxis": {
            "backgroundcolor": "#E5ECF6",
            "gridcolor": "white",
            "gridwidth": 2,
            "linecolor": "white",
            "showbackground": true,
            "ticks": "",
            "zerolinecolor": "white"
           },
           "yaxis": {
            "backgroundcolor": "#E5ECF6",
            "gridcolor": "white",
            "gridwidth": 2,
            "linecolor": "white",
            "showbackground": true,
            "ticks": "",
            "zerolinecolor": "white"
           },
           "zaxis": {
            "backgroundcolor": "#E5ECF6",
            "gridcolor": "white",
            "gridwidth": 2,
            "linecolor": "white",
            "showbackground": true,
            "ticks": "",
            "zerolinecolor": "white"
           }
          },
          "shapedefaults": {
           "line": {
            "color": "#2a3f5f"
           }
          },
          "ternary": {
           "aaxis": {
            "gridcolor": "white",
            "linecolor": "white",
            "ticks": ""
           },
           "baxis": {
            "gridcolor": "white",
            "linecolor": "white",
            "ticks": ""
           },
           "bgcolor": "#E5ECF6",
           "caxis": {
            "gridcolor": "white",
            "linecolor": "white",
            "ticks": ""
           }
          },
          "title": {
           "x": 0.05
          },
          "xaxis": {
           "automargin": true,
           "gridcolor": "white",
           "linecolor": "white",
           "ticks": "",
           "title": {
            "standoff": 15
           },
           "zerolinecolor": "white",
           "zerolinewidth": 2
          },
          "yaxis": {
           "automargin": true,
           "gridcolor": "white",
           "linecolor": "white",
           "ticks": "",
           "title": {
            "standoff": 15
           },
           "zerolinecolor": "white",
           "zerolinewidth": 2
          }
         }
        },
        "title": {
         "text": "30d trading volume of Cowswap users by group and month"
        }
       }
      }
     },
     "metadata": {},
     "output_type": "display_data"
    }
   ],
   "source": [
    "\n",
    "\n",
    "# override gray link colors with 'source' colors\n",
    "opacity = 0.4\n",
    "# change 'magenta' to its 'rgba' value to add opacity\n",
    "# data['data'][0]['node']['color'] = ['rgba(255,0,255, 0.8)' if color == \"magenta\" else color for color in data['data'][0]['node']['color']]\n",
    "# data['data'][0]['link']['color'] = [data['data'][0]['node']['color'][src].replace(\"0.8\", str(opacity))\n",
    "#                                     for src in data['data'][0]['link']['source']]\n",
    "fig = go.Figure(data=[go.Sankey(\n",
    "    node = dict(\n",
    "      pad = 15,\n",
    "      thickness = 20,\n",
    "      line = dict(color = \"black\", width = 0.5),\n",
    "      label = lst_node_labels,\n",
    "      color = lst_colors\n",
    "\n",
    "    ),\n",
    "    link = dict(\n",
    "      source = df_sankey.source, # indices correspond to labels, eg A1, A2, A1, B1, ...\n",
    "      target = df_sankey.target,\n",
    "      value = df_sankey['volume_30d'],\n",
    "      label = [str(round(df_sankey['volume_30d'].iloc[i]/1000,2)) + 'k' for i in range(0, len(df_sankey))],\n",
    "      \n",
    "      # color = ['rgb(' + str(int(mp.cm.viridis(np.arange(x*len(lst_node_labels)))[i][0]*255))+','+ str(int(mp.cm.viridis(np.arange(x*len(lst_node_labels)))[i][1]*255))+','+ str(int(mp.cm.viridis(x*np.arange(len(lst_node_labels)))[i][2]*255)) + ',' + str(opacity) + ')' for i in range(0,len(lst_node_labels))]\n",
    "  ))])\n",
    "\n",
    "fig.update_layout(title_text='30d trading volume of ' + project +  ' users by group and month', font_size=10)\n",
    "fig.show()\n",
    "# fig.write_html('volume_sankey.html')"
   ]
  },
  {
   "cell_type": "code",
   "execution_count": 69,
   "metadata": {},
   "outputs": [],
   "source": [
    "# df_project_users = df_project_monthly\n",
    "df_cohort = make_df_cohort(df_project_monthly[df_project_monthly.month_date==lst_months[-1]],shift_days=0)"
   ]
  },
  {
   "cell_type": "code",
   "execution_count": 72,
   "metadata": {},
   "outputs": [],
   "source": [
    "df_project_monthly['traded']=0\n",
    "df_project_monthly.loc[df_project_monthly.volume_30d>0,'traded']=1\n",
    "# min(df_cohort.cohort)\n",
    "df_project_monthly_cohort = df_project_monthly.merge(df_cohort[df_cohort.cohort>=0][['trader','cohort']], how='inner', left_on='trader', right_on='trader').reset_index()\n"
   ]
  },
  {
   "cell_type": "code",
   "execution_count": 73,
   "metadata": {},
   "outputs": [],
   "source": [
    "# export dataframe\n",
    "# df_project_monthly_cohort.to_pickle('monthly_cohort'+project+'.pkl')"
   ]
  },
  {
   "cell_type": "code",
   "execution_count": 74,
   "metadata": {},
   "outputs": [],
   "source": [
    "df_project_cohort = df_project_monthly_cohort.groupby(['cohort','month_date']).agg(num_wallets=('traded','sum'),\n",
    "volume_30d = ('volume_30d','sum'),\n",
    "swaps_30d = ('swaps_30d','sum')\n",
    ").reset_index()"
   ]
  },
  {
   "cell_type": "code",
   "execution_count": 75,
   "metadata": {},
   "outputs": [],
   "source": [
    "df_project_cohort_all = df_project_monthly_cohort.groupby(['cohort']).agg(num_wallets=('trader','nunique')\n",
    ").reset_index()\n"
   ]
  },
  {
   "cell_type": "code",
   "execution_count": 76,
   "metadata": {},
   "outputs": [],
   "source": [
    "val_col = 'num_wallets'\n",
    "cohort_pivot = df_project_cohort[['cohort','month_date',val_col]].pivot_table(index = 'cohort',\n",
    "                                     columns = 'month_date',\n",
    "                                     values = val_col)"
   ]
  },
  {
   "cell_type": "code",
   "execution_count": 77,
   "metadata": {},
   "outputs": [
    {
     "data": {
      "text/html": [
       "<div>\n",
       "<style scoped>\n",
       "    .dataframe tbody tr th:only-of-type {\n",
       "        vertical-align: middle;\n",
       "    }\n",
       "\n",
       "    .dataframe tbody tr th {\n",
       "        vertical-align: top;\n",
       "    }\n",
       "\n",
       "    .dataframe thead th {\n",
       "        text-align: right;\n",
       "    }\n",
       "</style>\n",
       "<table border=\"1\" class=\"dataframe\">\n",
       "  <thead>\n",
       "    <tr style=\"text-align: right;\">\n",
       "      <th>month_date</th>\n",
       "      <th>2022-01-01</th>\n",
       "      <th>2022-02-01</th>\n",
       "      <th>2022-03-01</th>\n",
       "      <th>2022-04-01</th>\n",
       "      <th>2022-05-01</th>\n",
       "      <th>2022-06-01</th>\n",
       "      <th>2022-07-01</th>\n",
       "      <th>2022-08-01</th>\n",
       "      <th>2022-09-01</th>\n",
       "    </tr>\n",
       "    <tr>\n",
       "      <th>cohort</th>\n",
       "      <th></th>\n",
       "      <th></th>\n",
       "      <th></th>\n",
       "      <th></th>\n",
       "      <th></th>\n",
       "      <th></th>\n",
       "      <th></th>\n",
       "      <th></th>\n",
       "      <th></th>\n",
       "    </tr>\n",
       "  </thead>\n",
       "  <tbody>\n",
       "    <tr>\n",
       "      <th>0</th>\n",
       "      <td>NaN</td>\n",
       "      <td>NaN</td>\n",
       "      <td>NaN</td>\n",
       "      <td>NaN</td>\n",
       "      <td>NaN</td>\n",
       "      <td>NaN</td>\n",
       "      <td>NaN</td>\n",
       "      <td>NaN</td>\n",
       "      <td>80740.0</td>\n",
       "    </tr>\n",
       "    <tr>\n",
       "      <th>1</th>\n",
       "      <td>NaN</td>\n",
       "      <td>NaN</td>\n",
       "      <td>NaN</td>\n",
       "      <td>NaN</td>\n",
       "      <td>NaN</td>\n",
       "      <td>NaN</td>\n",
       "      <td>NaN</td>\n",
       "      <td>68154.0</td>\n",
       "      <td>18187.0</td>\n",
       "    </tr>\n",
       "    <tr>\n",
       "      <th>2</th>\n",
       "      <td>NaN</td>\n",
       "      <td>NaN</td>\n",
       "      <td>NaN</td>\n",
       "      <td>NaN</td>\n",
       "      <td>NaN</td>\n",
       "      <td>NaN</td>\n",
       "      <td>53221.0</td>\n",
       "      <td>15381.0</td>\n",
       "      <td>8285.0</td>\n",
       "    </tr>\n",
       "    <tr>\n",
       "      <th>3</th>\n",
       "      <td>NaN</td>\n",
       "      <td>NaN</td>\n",
       "      <td>NaN</td>\n",
       "      <td>NaN</td>\n",
       "      <td>NaN</td>\n",
       "      <td>67366.0</td>\n",
       "      <td>17535.0</td>\n",
       "      <td>8358.0</td>\n",
       "      <td>7241.0</td>\n",
       "    </tr>\n",
       "    <tr>\n",
       "      <th>4</th>\n",
       "      <td>NaN</td>\n",
       "      <td>NaN</td>\n",
       "      <td>NaN</td>\n",
       "      <td>NaN</td>\n",
       "      <td>82016.0</td>\n",
       "      <td>22463.0</td>\n",
       "      <td>9329.0</td>\n",
       "      <td>7428.0</td>\n",
       "      <td>7067.0</td>\n",
       "    </tr>\n",
       "    <tr>\n",
       "      <th>5</th>\n",
       "      <td>NaN</td>\n",
       "      <td>NaN</td>\n",
       "      <td>NaN</td>\n",
       "      <td>98353.0</td>\n",
       "      <td>36534.0</td>\n",
       "      <td>13257.0</td>\n",
       "      <td>8553.0</td>\n",
       "      <td>7096.0</td>\n",
       "      <td>7118.0</td>\n",
       "    </tr>\n",
       "    <tr>\n",
       "      <th>6</th>\n",
       "      <td>NaN</td>\n",
       "      <td>NaN</td>\n",
       "      <td>101521.0</td>\n",
       "      <td>35618.0</td>\n",
       "      <td>16131.0</td>\n",
       "      <td>10816.0</td>\n",
       "      <td>7237.0</td>\n",
       "      <td>6107.0</td>\n",
       "      <td>6260.0</td>\n",
       "    </tr>\n",
       "    <tr>\n",
       "      <th>7</th>\n",
       "      <td>NaN</td>\n",
       "      <td>105449.0</td>\n",
       "      <td>39817.0</td>\n",
       "      <td>16661.0</td>\n",
       "      <td>13626.0</td>\n",
       "      <td>9781.0</td>\n",
       "      <td>6396.0</td>\n",
       "      <td>5383.0</td>\n",
       "      <td>5394.0</td>\n",
       "    </tr>\n",
       "    <tr>\n",
       "      <th>8</th>\n",
       "      <td>142882.0</td>\n",
       "      <td>43685.0</td>\n",
       "      <td>20136.0</td>\n",
       "      <td>16085.0</td>\n",
       "      <td>13367.0</td>\n",
       "      <td>10291.0</td>\n",
       "      <td>7161.0</td>\n",
       "      <td>6351.0</td>\n",
       "      <td>6353.0</td>\n",
       "    </tr>\n",
       "    <tr>\n",
       "      <th>9</th>\n",
       "      <td>67555.0</td>\n",
       "      <td>29609.0</td>\n",
       "      <td>21810.0</td>\n",
       "      <td>18402.0</td>\n",
       "      <td>15924.0</td>\n",
       "      <td>11973.0</td>\n",
       "      <td>8306.0</td>\n",
       "      <td>7421.0</td>\n",
       "      <td>7302.0</td>\n",
       "    </tr>\n",
       "    <tr>\n",
       "      <th>10</th>\n",
       "      <td>42720.0</td>\n",
       "      <td>28034.0</td>\n",
       "      <td>21453.0</td>\n",
       "      <td>18327.0</td>\n",
       "      <td>15734.0</td>\n",
       "      <td>12995.0</td>\n",
       "      <td>8697.0</td>\n",
       "      <td>7733.0</td>\n",
       "      <td>7964.0</td>\n",
       "    </tr>\n",
       "    <tr>\n",
       "      <th>11</th>\n",
       "      <td>16648.0</td>\n",
       "      <td>12177.0</td>\n",
       "      <td>10081.0</td>\n",
       "      <td>9294.0</td>\n",
       "      <td>8224.0</td>\n",
       "      <td>6671.0</td>\n",
       "      <td>5076.0</td>\n",
       "      <td>4429.0</td>\n",
       "      <td>4756.0</td>\n",
       "    </tr>\n",
       "    <tr>\n",
       "      <th>12</th>\n",
       "      <td>12224.0</td>\n",
       "      <td>9607.0</td>\n",
       "      <td>7860.0</td>\n",
       "      <td>7586.0</td>\n",
       "      <td>6799.0</td>\n",
       "      <td>5316.0</td>\n",
       "      <td>4280.0</td>\n",
       "      <td>3810.0</td>\n",
       "      <td>4092.0</td>\n",
       "    </tr>\n",
       "    <tr>\n",
       "      <th>13</th>\n",
       "      <td>12020.0</td>\n",
       "      <td>8971.0</td>\n",
       "      <td>7966.0</td>\n",
       "      <td>7753.0</td>\n",
       "      <td>6988.0</td>\n",
       "      <td>6156.0</td>\n",
       "      <td>4851.0</td>\n",
       "      <td>4535.0</td>\n",
       "      <td>4755.0</td>\n",
       "    </tr>\n",
       "    <tr>\n",
       "      <th>14</th>\n",
       "      <td>11451.0</td>\n",
       "      <td>8321.0</td>\n",
       "      <td>7289.0</td>\n",
       "      <td>7252.0</td>\n",
       "      <td>6524.0</td>\n",
       "      <td>5818.0</td>\n",
       "      <td>4689.0</td>\n",
       "      <td>4399.0</td>\n",
       "      <td>4806.0</td>\n",
       "    </tr>\n",
       "    <tr>\n",
       "      <th>15</th>\n",
       "      <td>21797.0</td>\n",
       "      <td>14697.0</td>\n",
       "      <td>12250.0</td>\n",
       "      <td>11715.0</td>\n",
       "      <td>10574.0</td>\n",
       "      <td>9358.0</td>\n",
       "      <td>6825.0</td>\n",
       "      <td>6189.0</td>\n",
       "      <td>6576.0</td>\n",
       "    </tr>\n",
       "    <tr>\n",
       "      <th>16</th>\n",
       "      <td>19841.0</td>\n",
       "      <td>14183.0</td>\n",
       "      <td>11648.0</td>\n",
       "      <td>11199.0</td>\n",
       "      <td>10467.0</td>\n",
       "      <td>8499.0</td>\n",
       "      <td>6363.0</td>\n",
       "      <td>5808.0</td>\n",
       "      <td>6416.0</td>\n",
       "    </tr>\n",
       "    <tr>\n",
       "      <th>17</th>\n",
       "      <td>14786.0</td>\n",
       "      <td>11629.0</td>\n",
       "      <td>9425.0</td>\n",
       "      <td>8924.0</td>\n",
       "      <td>8454.0</td>\n",
       "      <td>6756.0</td>\n",
       "      <td>5134.0</td>\n",
       "      <td>4662.0</td>\n",
       "      <td>5211.0</td>\n",
       "    </tr>\n",
       "    <tr>\n",
       "      <th>18</th>\n",
       "      <td>11897.0</td>\n",
       "      <td>9866.0</td>\n",
       "      <td>7744.0</td>\n",
       "      <td>7256.0</td>\n",
       "      <td>6803.0</td>\n",
       "      <td>5473.0</td>\n",
       "      <td>4222.0</td>\n",
       "      <td>3768.0</td>\n",
       "      <td>4105.0</td>\n",
       "    </tr>\n",
       "    <tr>\n",
       "      <th>19</th>\n",
       "      <td>9360.0</td>\n",
       "      <td>7731.0</td>\n",
       "      <td>6157.0</td>\n",
       "      <td>5969.0</td>\n",
       "      <td>5696.0</td>\n",
       "      <td>4612.0</td>\n",
       "      <td>3620.0</td>\n",
       "      <td>3300.0</td>\n",
       "      <td>3592.0</td>\n",
       "    </tr>\n",
       "    <tr>\n",
       "      <th>20</th>\n",
       "      <td>5558.0</td>\n",
       "      <td>4560.0</td>\n",
       "      <td>3628.0</td>\n",
       "      <td>3701.0</td>\n",
       "      <td>3503.0</td>\n",
       "      <td>2940.0</td>\n",
       "      <td>2414.0</td>\n",
       "      <td>2301.0</td>\n",
       "      <td>2583.0</td>\n",
       "    </tr>\n",
       "    <tr>\n",
       "      <th>21</th>\n",
       "      <td>4460.0</td>\n",
       "      <td>3641.0</td>\n",
       "      <td>3102.0</td>\n",
       "      <td>3077.0</td>\n",
       "      <td>2827.0</td>\n",
       "      <td>2594.0</td>\n",
       "      <td>2152.0</td>\n",
       "      <td>2037.0</td>\n",
       "      <td>2172.0</td>\n",
       "    </tr>\n",
       "    <tr>\n",
       "      <th>22</th>\n",
       "      <td>3413.0</td>\n",
       "      <td>2752.0</td>\n",
       "      <td>2471.0</td>\n",
       "      <td>2684.0</td>\n",
       "      <td>2410.0</td>\n",
       "      <td>2212.0</td>\n",
       "      <td>1936.0</td>\n",
       "      <td>1921.0</td>\n",
       "      <td>2046.0</td>\n",
       "    </tr>\n",
       "    <tr>\n",
       "      <th>23</th>\n",
       "      <td>6029.0</td>\n",
       "      <td>5047.0</td>\n",
       "      <td>4280.0</td>\n",
       "      <td>4460.0</td>\n",
       "      <td>4109.0</td>\n",
       "      <td>3606.0</td>\n",
       "      <td>3101.0</td>\n",
       "      <td>3003.0</td>\n",
       "      <td>3180.0</td>\n",
       "    </tr>\n",
       "    <tr>\n",
       "      <th>24</th>\n",
       "      <td>8272.0</td>\n",
       "      <td>7033.0</td>\n",
       "      <td>5714.0</td>\n",
       "      <td>5513.0</td>\n",
       "      <td>5394.0</td>\n",
       "      <td>4500.0</td>\n",
       "      <td>3807.0</td>\n",
       "      <td>3443.0</td>\n",
       "      <td>3778.0</td>\n",
       "    </tr>\n",
       "    <tr>\n",
       "      <th>25</th>\n",
       "      <td>6441.0</td>\n",
       "      <td>5691.0</td>\n",
       "      <td>4504.0</td>\n",
       "      <td>4510.0</td>\n",
       "      <td>4315.0</td>\n",
       "      <td>3667.0</td>\n",
       "      <td>3189.0</td>\n",
       "      <td>2886.0</td>\n",
       "      <td>3268.0</td>\n",
       "    </tr>\n",
       "    <tr>\n",
       "      <th>26</th>\n",
       "      <td>2373.0</td>\n",
       "      <td>2132.0</td>\n",
       "      <td>1665.0</td>\n",
       "      <td>1737.0</td>\n",
       "      <td>1706.0</td>\n",
       "      <td>1475.0</td>\n",
       "      <td>1316.0</td>\n",
       "      <td>1174.0</td>\n",
       "      <td>1300.0</td>\n",
       "    </tr>\n",
       "    <tr>\n",
       "      <th>27</th>\n",
       "      <td>1341.0</td>\n",
       "      <td>1218.0</td>\n",
       "      <td>1006.0</td>\n",
       "      <td>1073.0</td>\n",
       "      <td>973.0</td>\n",
       "      <td>965.0</td>\n",
       "      <td>889.0</td>\n",
       "      <td>780.0</td>\n",
       "      <td>916.0</td>\n",
       "    </tr>\n",
       "    <tr>\n",
       "      <th>28</th>\n",
       "      <td>1062.0</td>\n",
       "      <td>946.0</td>\n",
       "      <td>826.0</td>\n",
       "      <td>960.0</td>\n",
       "      <td>840.0</td>\n",
       "      <td>863.0</td>\n",
       "      <td>776.0</td>\n",
       "      <td>681.0</td>\n",
       "      <td>786.0</td>\n",
       "    </tr>\n",
       "    <tr>\n",
       "      <th>29</th>\n",
       "      <td>336.0</td>\n",
       "      <td>304.0</td>\n",
       "      <td>266.0</td>\n",
       "      <td>292.0</td>\n",
       "      <td>271.0</td>\n",
       "      <td>264.0</td>\n",
       "      <td>221.0</td>\n",
       "      <td>199.0</td>\n",
       "      <td>230.0</td>\n",
       "    </tr>\n",
       "    <tr>\n",
       "      <th>30</th>\n",
       "      <td>445.0</td>\n",
       "      <td>418.0</td>\n",
       "      <td>344.0</td>\n",
       "      <td>380.0</td>\n",
       "      <td>338.0</td>\n",
       "      <td>362.0</td>\n",
       "      <td>314.0</td>\n",
       "      <td>277.0</td>\n",
       "      <td>313.0</td>\n",
       "    </tr>\n",
       "    <tr>\n",
       "      <th>31</th>\n",
       "      <td>617.0</td>\n",
       "      <td>561.0</td>\n",
       "      <td>508.0</td>\n",
       "      <td>558.0</td>\n",
       "      <td>493.0</td>\n",
       "      <td>488.0</td>\n",
       "      <td>415.0</td>\n",
       "      <td>408.0</td>\n",
       "      <td>459.0</td>\n",
       "    </tr>\n",
       "    <tr>\n",
       "      <th>32</th>\n",
       "      <td>266.0</td>\n",
       "      <td>255.0</td>\n",
       "      <td>231.0</td>\n",
       "      <td>242.0</td>\n",
       "      <td>215.0</td>\n",
       "      <td>220.0</td>\n",
       "      <td>203.0</td>\n",
       "      <td>161.0</td>\n",
       "      <td>185.0</td>\n",
       "    </tr>\n",
       "    <tr>\n",
       "      <th>33</th>\n",
       "      <td>250.0</td>\n",
       "      <td>219.0</td>\n",
       "      <td>183.0</td>\n",
       "      <td>191.0</td>\n",
       "      <td>171.0</td>\n",
       "      <td>137.0</td>\n",
       "      <td>161.0</td>\n",
       "      <td>131.0</td>\n",
       "      <td>123.0</td>\n",
       "    </tr>\n",
       "    <tr>\n",
       "      <th>34</th>\n",
       "      <td>178.0</td>\n",
       "      <td>157.0</td>\n",
       "      <td>137.0</td>\n",
       "      <td>128.0</td>\n",
       "      <td>118.0</td>\n",
       "      <td>105.0</td>\n",
       "      <td>107.0</td>\n",
       "      <td>80.0</td>\n",
       "      <td>105.0</td>\n",
       "    </tr>\n",
       "    <tr>\n",
       "      <th>35</th>\n",
       "      <td>135.0</td>\n",
       "      <td>130.0</td>\n",
       "      <td>101.0</td>\n",
       "      <td>87.0</td>\n",
       "      <td>88.0</td>\n",
       "      <td>82.0</td>\n",
       "      <td>74.0</td>\n",
       "      <td>65.0</td>\n",
       "      <td>56.0</td>\n",
       "    </tr>\n",
       "    <tr>\n",
       "      <th>36</th>\n",
       "      <td>125.0</td>\n",
       "      <td>115.0</td>\n",
       "      <td>86.0</td>\n",
       "      <td>80.0</td>\n",
       "      <td>68.0</td>\n",
       "      <td>75.0</td>\n",
       "      <td>71.0</td>\n",
       "      <td>69.0</td>\n",
       "      <td>65.0</td>\n",
       "    </tr>\n",
       "    <tr>\n",
       "      <th>37</th>\n",
       "      <td>130.0</td>\n",
       "      <td>117.0</td>\n",
       "      <td>97.0</td>\n",
       "      <td>79.0</td>\n",
       "      <td>87.0</td>\n",
       "      <td>83.0</td>\n",
       "      <td>85.0</td>\n",
       "      <td>62.0</td>\n",
       "      <td>68.0</td>\n",
       "    </tr>\n",
       "    <tr>\n",
       "      <th>38</th>\n",
       "      <td>114.0</td>\n",
       "      <td>109.0</td>\n",
       "      <td>92.0</td>\n",
       "      <td>80.0</td>\n",
       "      <td>91.0</td>\n",
       "      <td>86.0</td>\n",
       "      <td>90.0</td>\n",
       "      <td>65.0</td>\n",
       "      <td>71.0</td>\n",
       "    </tr>\n",
       "    <tr>\n",
       "      <th>39</th>\n",
       "      <td>134.0</td>\n",
       "      <td>123.0</td>\n",
       "      <td>98.0</td>\n",
       "      <td>85.0</td>\n",
       "      <td>87.0</td>\n",
       "      <td>81.0</td>\n",
       "      <td>71.0</td>\n",
       "      <td>61.0</td>\n",
       "      <td>57.0</td>\n",
       "    </tr>\n",
       "    <tr>\n",
       "      <th>40</th>\n",
       "      <td>118.0</td>\n",
       "      <td>111.0</td>\n",
       "      <td>88.0</td>\n",
       "      <td>82.0</td>\n",
       "      <td>72.0</td>\n",
       "      <td>70.0</td>\n",
       "      <td>74.0</td>\n",
       "      <td>60.0</td>\n",
       "      <td>57.0</td>\n",
       "    </tr>\n",
       "    <tr>\n",
       "      <th>41</th>\n",
       "      <td>88.0</td>\n",
       "      <td>91.0</td>\n",
       "      <td>80.0</td>\n",
       "      <td>80.0</td>\n",
       "      <td>81.0</td>\n",
       "      <td>65.0</td>\n",
       "      <td>64.0</td>\n",
       "      <td>55.0</td>\n",
       "      <td>55.0</td>\n",
       "    </tr>\n",
       "    <tr>\n",
       "      <th>42</th>\n",
       "      <td>111.0</td>\n",
       "      <td>115.0</td>\n",
       "      <td>77.0</td>\n",
       "      <td>85.0</td>\n",
       "      <td>64.0</td>\n",
       "      <td>72.0</td>\n",
       "      <td>73.0</td>\n",
       "      <td>50.0</td>\n",
       "      <td>55.0</td>\n",
       "    </tr>\n",
       "    <tr>\n",
       "      <th>43</th>\n",
       "      <td>53.0</td>\n",
       "      <td>66.0</td>\n",
       "      <td>61.0</td>\n",
       "      <td>45.0</td>\n",
       "      <td>35.0</td>\n",
       "      <td>41.0</td>\n",
       "      <td>53.0</td>\n",
       "      <td>28.0</td>\n",
       "      <td>37.0</td>\n",
       "    </tr>\n",
       "    <tr>\n",
       "      <th>44</th>\n",
       "      <td>32.0</td>\n",
       "      <td>38.0</td>\n",
       "      <td>29.0</td>\n",
       "      <td>25.0</td>\n",
       "      <td>25.0</td>\n",
       "      <td>22.0</td>\n",
       "      <td>27.0</td>\n",
       "      <td>17.0</td>\n",
       "      <td>16.0</td>\n",
       "    </tr>\n",
       "  </tbody>\n",
       "</table>\n",
       "</div>"
      ],
      "text/plain": [
       "month_date  2022-01-01  2022-02-01  2022-03-01  2022-04-01  2022-05-01  \\\n",
       "cohort                                                                   \n",
       "0                  NaN         NaN         NaN         NaN         NaN   \n",
       "1                  NaN         NaN         NaN         NaN         NaN   \n",
       "2                  NaN         NaN         NaN         NaN         NaN   \n",
       "3                  NaN         NaN         NaN         NaN         NaN   \n",
       "4                  NaN         NaN         NaN         NaN     82016.0   \n",
       "5                  NaN         NaN         NaN     98353.0     36534.0   \n",
       "6                  NaN         NaN    101521.0     35618.0     16131.0   \n",
       "7                  NaN    105449.0     39817.0     16661.0     13626.0   \n",
       "8             142882.0     43685.0     20136.0     16085.0     13367.0   \n",
       "9              67555.0     29609.0     21810.0     18402.0     15924.0   \n",
       "10             42720.0     28034.0     21453.0     18327.0     15734.0   \n",
       "11             16648.0     12177.0     10081.0      9294.0      8224.0   \n",
       "12             12224.0      9607.0      7860.0      7586.0      6799.0   \n",
       "13             12020.0      8971.0      7966.0      7753.0      6988.0   \n",
       "14             11451.0      8321.0      7289.0      7252.0      6524.0   \n",
       "15             21797.0     14697.0     12250.0     11715.0     10574.0   \n",
       "16             19841.0     14183.0     11648.0     11199.0     10467.0   \n",
       "17             14786.0     11629.0      9425.0      8924.0      8454.0   \n",
       "18             11897.0      9866.0      7744.0      7256.0      6803.0   \n",
       "19              9360.0      7731.0      6157.0      5969.0      5696.0   \n",
       "20              5558.0      4560.0      3628.0      3701.0      3503.0   \n",
       "21              4460.0      3641.0      3102.0      3077.0      2827.0   \n",
       "22              3413.0      2752.0      2471.0      2684.0      2410.0   \n",
       "23              6029.0      5047.0      4280.0      4460.0      4109.0   \n",
       "24              8272.0      7033.0      5714.0      5513.0      5394.0   \n",
       "25              6441.0      5691.0      4504.0      4510.0      4315.0   \n",
       "26              2373.0      2132.0      1665.0      1737.0      1706.0   \n",
       "27              1341.0      1218.0      1006.0      1073.0       973.0   \n",
       "28              1062.0       946.0       826.0       960.0       840.0   \n",
       "29               336.0       304.0       266.0       292.0       271.0   \n",
       "30               445.0       418.0       344.0       380.0       338.0   \n",
       "31               617.0       561.0       508.0       558.0       493.0   \n",
       "32               266.0       255.0       231.0       242.0       215.0   \n",
       "33               250.0       219.0       183.0       191.0       171.0   \n",
       "34               178.0       157.0       137.0       128.0       118.0   \n",
       "35               135.0       130.0       101.0        87.0        88.0   \n",
       "36               125.0       115.0        86.0        80.0        68.0   \n",
       "37               130.0       117.0        97.0        79.0        87.0   \n",
       "38               114.0       109.0        92.0        80.0        91.0   \n",
       "39               134.0       123.0        98.0        85.0        87.0   \n",
       "40               118.0       111.0        88.0        82.0        72.0   \n",
       "41                88.0        91.0        80.0        80.0        81.0   \n",
       "42               111.0       115.0        77.0        85.0        64.0   \n",
       "43                53.0        66.0        61.0        45.0        35.0   \n",
       "44                32.0        38.0        29.0        25.0        25.0   \n",
       "\n",
       "month_date  2022-06-01  2022-07-01  2022-08-01  2022-09-01  \n",
       "cohort                                                      \n",
       "0                  NaN         NaN         NaN     80740.0  \n",
       "1                  NaN         NaN     68154.0     18187.0  \n",
       "2                  NaN     53221.0     15381.0      8285.0  \n",
       "3              67366.0     17535.0      8358.0      7241.0  \n",
       "4              22463.0      9329.0      7428.0      7067.0  \n",
       "5              13257.0      8553.0      7096.0      7118.0  \n",
       "6              10816.0      7237.0      6107.0      6260.0  \n",
       "7               9781.0      6396.0      5383.0      5394.0  \n",
       "8              10291.0      7161.0      6351.0      6353.0  \n",
       "9              11973.0      8306.0      7421.0      7302.0  \n",
       "10             12995.0      8697.0      7733.0      7964.0  \n",
       "11              6671.0      5076.0      4429.0      4756.0  \n",
       "12              5316.0      4280.0      3810.0      4092.0  \n",
       "13              6156.0      4851.0      4535.0      4755.0  \n",
       "14              5818.0      4689.0      4399.0      4806.0  \n",
       "15              9358.0      6825.0      6189.0      6576.0  \n",
       "16              8499.0      6363.0      5808.0      6416.0  \n",
       "17              6756.0      5134.0      4662.0      5211.0  \n",
       "18              5473.0      4222.0      3768.0      4105.0  \n",
       "19              4612.0      3620.0      3300.0      3592.0  \n",
       "20              2940.0      2414.0      2301.0      2583.0  \n",
       "21              2594.0      2152.0      2037.0      2172.0  \n",
       "22              2212.0      1936.0      1921.0      2046.0  \n",
       "23              3606.0      3101.0      3003.0      3180.0  \n",
       "24              4500.0      3807.0      3443.0      3778.0  \n",
       "25              3667.0      3189.0      2886.0      3268.0  \n",
       "26              1475.0      1316.0      1174.0      1300.0  \n",
       "27               965.0       889.0       780.0       916.0  \n",
       "28               863.0       776.0       681.0       786.0  \n",
       "29               264.0       221.0       199.0       230.0  \n",
       "30               362.0       314.0       277.0       313.0  \n",
       "31               488.0       415.0       408.0       459.0  \n",
       "32               220.0       203.0       161.0       185.0  \n",
       "33               137.0       161.0       131.0       123.0  \n",
       "34               105.0       107.0        80.0       105.0  \n",
       "35                82.0        74.0        65.0        56.0  \n",
       "36                75.0        71.0        69.0        65.0  \n",
       "37                83.0        85.0        62.0        68.0  \n",
       "38                86.0        90.0        65.0        71.0  \n",
       "39                81.0        71.0        61.0        57.0  \n",
       "40                70.0        74.0        60.0        57.0  \n",
       "41                65.0        64.0        55.0        55.0  \n",
       "42                72.0        73.0        50.0        55.0  \n",
       "43                41.0        53.0        28.0        37.0  \n",
       "44                22.0        27.0        17.0        16.0  "
      ]
     },
     "execution_count": 77,
     "metadata": {},
     "output_type": "execute_result"
    }
   ],
   "source": [
    "cohort_pivot"
   ]
  },
  {
   "cell_type": "code",
   "execution_count": 78,
   "metadata": {},
   "outputs": [],
   "source": [
    "cohort_size=df_project_cohort_all.iloc[:,1]\n",
    "cohort_size[:9] = [cohort_pivot.iloc[i,8-i] for i in range(0,9)]\n",
    "retention_matrix = cohort_pivot.divide(cohort_size, axis = 0) \n"
   ]
  },
  {
   "cell_type": "code",
   "execution_count": 79,
   "metadata": {},
   "outputs": [
    {
     "data": {
      "image/png": "[encoded data removed]",
      "text/plain": [
       "<Figure size 864x576 with 3 Axes>"
      ]
     },
     "metadata": {},
     "output_type": "display_data"
    }
   ],
   "source": [
    "\n",
    "\n",
    "with sns.axes_style(\"white\"):\n",
    "    fig, ax = mp.subplots(1, 2, figsize=(12, 8), sharey=True, gridspec_kw={'width_ratios': [1, 11]})\n",
    "    \n",
    "    # retention matrix\n",
    "    sns.heatmap(retention_matrix, \n",
    "                mask=retention_matrix.isnull(), \n",
    "                annot=True, \n",
    "                fmt='.0%', \n",
    "                cmap='RdYlGn', \n",
    "                ax=ax[1],yticklabels=False)\n",
    "    if project =='zerox':\n",
    "                    project_str='0x'\n",
    "    else:\n",
    "                    project_str=project\n",
    "    ax[1].set_title(project_str + ' wallet rentention per month as share of initial month \\n (onboarded past (x+1)*30days)', fontsize=16)\n",
    "    ax[1].set(xlabel='',\n",
    "              ylabel='')\n",
    "\n",
    "    \n",
    "    # cohort size\n",
    "    cohort_size_df = pd.DataFrame(cohort_size).reset_index()\n",
    "    cohort_size_df=cohort_size_df.rename(columns={cohort_size_df.columns[1]: 'cohort size \\n (#wallets)'})\n",
    "    white_cmap = mcolors.ListedColormap(['white'])\n",
    "    sns.heatmap(cohort_size_df, \n",
    "                annot=True, \n",
    "                cbar=False, \n",
    "                fmt='g', \n",
    "                cmap=white_cmap, \n",
    "                ax=ax[0])\n",
    "    # ax[0].set(xlabel='cohort size')\n",
    "    \n",
    "\n",
    "    fig.tight_layout()\n",
    "    fig.savefig('charts/retention_wallets'+project+'.png')"
   ]
  },
  {
   "cell_type": "code",
   "execution_count": 80,
   "metadata": {},
   "outputs": [],
   "source": [
    "# put horizontal rows from above into one chart such that they all start with 100% at the same time (so x-axis is 'month lifetime')\n",
    "df_retention_matrix=pd.DataFrame(retention_matrix).reset_index()\n",
    "df_retention_matrix\n",
    "retention_matrix_nulled = [list(df_retention_matrix.iloc[i,9-i:])  for i in range(0,9)]"
   ]
  },
  {
   "cell_type": "code",
   "execution_count": 81,
   "metadata": {},
   "outputs": [
    {
     "data": {
      "text/html": [
       "<div>\n",
       "<style scoped>\n",
       "    .dataframe tbody tr th:only-of-type {\n",
       "        vertical-align: middle;\n",
       "    }\n",
       "\n",
       "    .dataframe tbody tr th {\n",
       "        vertical-align: top;\n",
       "    }\n",
       "\n",
       "    .dataframe thead th {\n",
       "        text-align: right;\n",
       "    }\n",
       "</style>\n",
       "<table border=\"1\" class=\"dataframe\">\n",
       "  <thead>\n",
       "    <tr style=\"text-align: right;\">\n",
       "      <th></th>\n",
       "      <th>month_date</th>\n",
       "      <th>0</th>\n",
       "      <th>1</th>\n",
       "      <th>2</th>\n",
       "      <th>3</th>\n",
       "      <th>4</th>\n",
       "      <th>5</th>\n",
       "      <th>6</th>\n",
       "      <th>7</th>\n",
       "      <th>8</th>\n",
       "      <th>9</th>\n",
       "      <th>10</th>\n",
       "      <th>11</th>\n",
       "      <th>12</th>\n",
       "      <th>13</th>\n",
       "      <th>14</th>\n",
       "      <th>15</th>\n",
       "      <th>16</th>\n",
       "      <th>17</th>\n",
       "    </tr>\n",
       "  </thead>\n",
       "  <tbody>\n",
       "    <tr>\n",
       "      <th>0</th>\n",
       "      <td>2022-01-01</td>\n",
       "      <td>1.0</td>\n",
       "      <td>1.000000</td>\n",
       "      <td>1.000000</td>\n",
       "      <td>1.000000</td>\n",
       "      <td>1.000000</td>\n",
       "      <td>1.000000</td>\n",
       "      <td>1.000000</td>\n",
       "      <td>1.000000</td>\n",
       "      <td>1.000000</td>\n",
       "      <td>0.265583</td>\n",
       "      <td>0.146871</td>\n",
       "      <td>0.130994</td>\n",
       "      <td>0.097774</td>\n",
       "      <td>0.076005</td>\n",
       "      <td>0.052374</td>\n",
       "      <td>0.046341</td>\n",
       "      <td>0.054301</td>\n",
       "      <td>0.062997</td>\n",
       "    </tr>\n",
       "    <tr>\n",
       "      <th>1</th>\n",
       "      <td>2022-02-01</td>\n",
       "      <td>NaN</td>\n",
       "      <td>0.266852</td>\n",
       "      <td>0.289002</td>\n",
       "      <td>0.260295</td>\n",
       "      <td>0.273886</td>\n",
       "      <td>0.371458</td>\n",
       "      <td>0.350844</td>\n",
       "      <td>0.377595</td>\n",
       "      <td>0.305742</td>\n",
       "      <td>0.116404</td>\n",
       "      <td>0.096381</td>\n",
       "      <td>0.095814</td>\n",
       "      <td>0.076842</td>\n",
       "      <td>0.056726</td>\n",
       "      <td>0.038058</td>\n",
       "      <td>0.031246</td>\n",
       "      <td>0.038816</td>\n",
       "      <td>0.049547</td>\n",
       "    </tr>\n",
       "    <tr>\n",
       "      <th>2</th>\n",
       "      <td>2022-03-01</td>\n",
       "      <td>NaN</td>\n",
       "      <td>NaN</td>\n",
       "      <td>0.155672</td>\n",
       "      <td>0.124069</td>\n",
       "      <td>0.113746</td>\n",
       "      <td>0.134790</td>\n",
       "      <td>0.158893</td>\n",
       "      <td>0.158001</td>\n",
       "      <td>0.140927</td>\n",
       "      <td>0.085743</td>\n",
       "      <td>0.073755</td>\n",
       "      <td>0.079322</td>\n",
       "      <td>0.062868</td>\n",
       "      <td>0.050371</td>\n",
       "      <td>0.033338</td>\n",
       "      <td>0.026044</td>\n",
       "      <td>0.031878</td>\n",
       "      <td>0.040156</td>\n",
       "    </tr>\n",
       "    <tr>\n",
       "      <th>3</th>\n",
       "      <td>2022-04-01</td>\n",
       "      <td>NaN</td>\n",
       "      <td>NaN</td>\n",
       "      <td>NaN</td>\n",
       "      <td>0.107487</td>\n",
       "      <td>0.090568</td>\n",
       "      <td>0.086962</td>\n",
       "      <td>0.106540</td>\n",
       "      <td>0.129219</td>\n",
       "      <td>0.112575</td>\n",
       "      <td>0.072345</td>\n",
       "      <td>0.063008</td>\n",
       "      <td>0.073129</td>\n",
       "      <td>0.060677</td>\n",
       "      <td>0.049024</td>\n",
       "      <td>0.033169</td>\n",
       "      <td>0.024906</td>\n",
       "      <td>0.030649</td>\n",
       "      <td>0.038022</td>\n",
       "    </tr>\n",
       "    <tr>\n",
       "      <th>4</th>\n",
       "      <td>2022-05-01</td>\n",
       "      <td>NaN</td>\n",
       "      <td>NaN</td>\n",
       "      <td>NaN</td>\n",
       "      <td>NaN</td>\n",
       "      <td>0.086166</td>\n",
       "      <td>0.072148</td>\n",
       "      <td>0.071286</td>\n",
       "      <td>0.092756</td>\n",
       "      <td>0.093553</td>\n",
       "      <td>0.062603</td>\n",
       "      <td>0.054093</td>\n",
       "      <td>0.064710</td>\n",
       "      <td>0.054382</td>\n",
       "      <td>0.044187</td>\n",
       "      <td>0.029839</td>\n",
       "      <td>0.022481</td>\n",
       "      <td>0.028646</td>\n",
       "      <td>0.036019</td>\n",
       "    </tr>\n",
       "    <tr>\n",
       "      <th>5</th>\n",
       "      <td>2022-06-01</td>\n",
       "      <td>NaN</td>\n",
       "      <td>NaN</td>\n",
       "      <td>NaN</td>\n",
       "      <td>NaN</td>\n",
       "      <td>NaN</td>\n",
       "      <td>0.072372</td>\n",
       "      <td>0.060155</td>\n",
       "      <td>0.060655</td>\n",
       "      <td>0.072024</td>\n",
       "      <td>0.047070</td>\n",
       "      <td>0.044677</td>\n",
       "      <td>0.052490</td>\n",
       "      <td>0.042520</td>\n",
       "      <td>0.038926</td>\n",
       "      <td>0.026610</td>\n",
       "      <td>0.019895</td>\n",
       "      <td>0.023260</td>\n",
       "      <td>0.028785</td>\n",
       "    </tr>\n",
       "    <tr>\n",
       "      <th>6</th>\n",
       "      <td>2022-07-01</td>\n",
       "      <td>NaN</td>\n",
       "      <td>NaN</td>\n",
       "      <td>NaN</td>\n",
       "      <td>NaN</td>\n",
       "      <td>NaN</td>\n",
       "      <td>NaN</td>\n",
       "      <td>0.061662</td>\n",
       "      <td>0.051048</td>\n",
       "      <td>0.050118</td>\n",
       "      <td>0.032654</td>\n",
       "      <td>0.029900</td>\n",
       "      <td>0.039940</td>\n",
       "      <td>0.034234</td>\n",
       "      <td>0.030674</td>\n",
       "      <td>0.021446</td>\n",
       "      <td>0.014510</td>\n",
       "      <td>0.017414</td>\n",
       "      <td>0.021874</td>\n",
       "    </tr>\n",
       "    <tr>\n",
       "      <th>7</th>\n",
       "      <td>2022-08-01</td>\n",
       "      <td>NaN</td>\n",
       "      <td>NaN</td>\n",
       "      <td>NaN</td>\n",
       "      <td>NaN</td>\n",
       "      <td>NaN</td>\n",
       "      <td>NaN</td>\n",
       "      <td>NaN</td>\n",
       "      <td>0.051153</td>\n",
       "      <td>0.044449</td>\n",
       "      <td>0.029175</td>\n",
       "      <td>0.026586</td>\n",
       "      <td>0.034849</td>\n",
       "      <td>0.030474</td>\n",
       "      <td>0.028676</td>\n",
       "      <td>0.020120</td>\n",
       "      <td>0.013158</td>\n",
       "      <td>0.015895</td>\n",
       "      <td>0.019863</td>\n",
       "    </tr>\n",
       "    <tr>\n",
       "      <th>8</th>\n",
       "      <td>2022-09-01</td>\n",
       "      <td>NaN</td>\n",
       "      <td>NaN</td>\n",
       "      <td>NaN</td>\n",
       "      <td>NaN</td>\n",
       "      <td>NaN</td>\n",
       "      <td>NaN</td>\n",
       "      <td>NaN</td>\n",
       "      <td>NaN</td>\n",
       "      <td>0.044463</td>\n",
       "      <td>0.028707</td>\n",
       "      <td>0.027380</td>\n",
       "      <td>0.037422</td>\n",
       "      <td>0.032730</td>\n",
       "      <td>0.030067</td>\n",
       "      <td>0.021981</td>\n",
       "      <td>0.013981</td>\n",
       "      <td>0.017559</td>\n",
       "      <td>0.022202</td>\n",
       "    </tr>\n",
       "  </tbody>\n",
       "</table>\n",
       "</div>"
      ],
      "text/plain": [
       "   month_date    0         1         2         3         4         5  \\\n",
       "0  2022-01-01  1.0  1.000000  1.000000  1.000000  1.000000  1.000000   \n",
       "1  2022-02-01  NaN  0.266852  0.289002  0.260295  0.273886  0.371458   \n",
       "2  2022-03-01  NaN       NaN  0.155672  0.124069  0.113746  0.134790   \n",
       "3  2022-04-01  NaN       NaN       NaN  0.107487  0.090568  0.086962   \n",
       "4  2022-05-01  NaN       NaN       NaN       NaN  0.086166  0.072148   \n",
       "5  2022-06-01  NaN       NaN       NaN       NaN       NaN  0.072372   \n",
       "6  2022-07-01  NaN       NaN       NaN       NaN       NaN       NaN   \n",
       "7  2022-08-01  NaN       NaN       NaN       NaN       NaN       NaN   \n",
       "8  2022-09-01  NaN       NaN       NaN       NaN       NaN       NaN   \n",
       "\n",
       "          6         7         8         9        10        11        12  \\\n",
       "0  1.000000  1.000000  1.000000  0.265583  0.146871  0.130994  0.097774   \n",
       "1  0.350844  0.377595  0.305742  0.116404  0.096381  0.095814  0.076842   \n",
       "2  0.158893  0.158001  0.140927  0.085743  0.073755  0.079322  0.062868   \n",
       "3  0.106540  0.129219  0.112575  0.072345  0.063008  0.073129  0.060677   \n",
       "4  0.071286  0.092756  0.093553  0.062603  0.054093  0.064710  0.054382   \n",
       "5  0.060155  0.060655  0.072024  0.047070  0.044677  0.052490  0.042520   \n",
       "6  0.061662  0.051048  0.050118  0.032654  0.029900  0.039940  0.034234   \n",
       "7       NaN  0.051153  0.044449  0.029175  0.026586  0.034849  0.030474   \n",
       "8       NaN       NaN  0.044463  0.028707  0.027380  0.037422  0.032730   \n",
       "\n",
       "         13        14        15        16        17  \n",
       "0  0.076005  0.052374  0.046341  0.054301  0.062997  \n",
       "1  0.056726  0.038058  0.031246  0.038816  0.049547  \n",
       "2  0.050371  0.033338  0.026044  0.031878  0.040156  \n",
       "3  0.049024  0.033169  0.024906  0.030649  0.038022  \n",
       "4  0.044187  0.029839  0.022481  0.028646  0.036019  \n",
       "5  0.038926  0.026610  0.019895  0.023260  0.028785  \n",
       "6  0.030674  0.021446  0.014510  0.017414  0.021874  \n",
       "7  0.028676  0.020120  0.013158  0.015895  0.019863  \n",
       "8  0.030067  0.021981  0.013981  0.017559  0.022202  "
      ]
     },
     "execution_count": 81,
     "metadata": {},
     "output_type": "execute_result"
    }
   ],
   "source": [
    "dct_retention={}\n",
    "\n",
    "for i in range(0,8):\n",
    "    for j in range(0,8-i):\n",
    "        retention_matrix_nulled[i].append(np.nan)\n",
    "    dct_retention[i]=retention_matrix_nulled[i]    \n",
    "\n",
    "for i in range(8,18):\n",
    "    dct_retention[i]=df_retention_matrix.iloc[i,1:]\n",
    "# i=2\n",
    "# [df_retention_matrix.iloc[9-i:,i]].extend(np.repeat(np.nan(),3))\n",
    "\n",
    "df_retention_matrix_nulled = pd.DataFrame(dct_retention).reset_index()\n",
    "df_retention_matrix_nulled"
   ]
  },
  {
   "cell_type": "code",
   "execution_count": 82,
   "metadata": {},
   "outputs": [
    {
     "data": {
      "text/plain": [
       "<matplotlib.legend.Legend at 0x4d4f54b20>"
      ]
     },
     "execution_count": 82,
     "metadata": {},
     "output_type": "execute_result"
    },
    {
     "data": {
      "image/png": "[encoded data removed]",
      "text/plain": [
       "<Figure size 864x648 with 1 Axes>"
      ]
     },
     "metadata": {
      "needs_background": "light"
     },
     "output_type": "display_data"
    }
   ],
   "source": [
    "mp.subplots(figsize=(12,9))\n",
    "num_lines = len(df_retention_matrix_nulled.iloc[:,1:].keys())\n",
    "colors = mp.cm.viridis(np.linspace(0,1,num_lines))\n",
    "for i in range(0,num_lines):\n",
    "    mp.plot(df_retention_matrix_nulled.month_date, df_retention_matrix_nulled.iloc[:,i+1], linewidth=1, color=colors[i], label=str(i))\n",
    "\n",
    "mp.legend()"
   ]
  },
  {
   "cell_type": "code",
   "execution_count": 83,
   "metadata": {},
   "outputs": [],
   "source": [
    "#retenteion matrix, but now columns add to 100% of monthly volume\n",
    "val_col = 'volume_30d'\n",
    "cohort_pivot = df_project_cohort[['cohort','month_date',val_col]].pivot_table(index = 'cohort',\n",
    "                                     columns = 'month_date',\n",
    "                                     values = val_col)\n",
    "#if totals are columns\n",
    "cohort_size = [np.nansum(cohort_pivot.iloc[:,i]) for i in range(0, len(cohort_pivot.keys()))]\n",
    "retention_matrix = cohort_pivot.divide(cohort_size, axis = 1) #change to 0 for users\n",
    "\n",
    "\n",
    "\n"
   ]
  },
  {
   "cell_type": "code",
   "execution_count": 84,
   "metadata": {},
   "outputs": [
    {
     "data": {
      "image/png": "[encoded data removed]",
      "text/plain": [
       "<Figure size 864x576 with 2 Axes>"
      ]
     },
     "metadata": {},
     "output_type": "display_data"
    }
   ],
   "source": [
    "import matplotlib.colors as mcolors\n",
    "with sns.axes_style(\"white\"):\n",
    "    fig, axs = mp.subplots(figsize=(12, 8))\n",
    "    # , gridspec_kw={'width_ratios': [1, 11]})\n",
    "    \n",
    "    # retention matrix\n",
    "    sns.heatmap(retention_matrix, \n",
    "                mask=retention_matrix.isnull(), \n",
    "                annot=True, \n",
    "                fmt='.0%', \n",
    "                cmap='RdYlGn', \n",
    "                ax=axs)\n",
    "    axs.set_title(project_str + ' share of volume of cohort in given month \\n (onboarded past (x+1)*30days)', fontsize=16)\n",
    "    axs.set(xlabel='',\n",
    "              ylabel='')\n",
    "\n",
    "    # # cohort size\n",
    "    # cohort_size_df = pd.DataFrame(cohort_size).rename(columns={0: 'cohort_size'})\n",
    "    # white_cmap = mcolors.ListedColormap(['white'])\n",
    "    # sns.heatmap(cohort_size_df, \n",
    "    #             annot=True, \n",
    "    #             cbar=False, \n",
    "    #             fmt='g', \n",
    "    #             cmap=white_cmap, \n",
    "    #             ax=ax[0])\n",
    "    # # ax[0].set(xlabel='#wallets live')\n",
    "\n",
    "    fig.tight_layout()\n",
    "    fig.savefig('charts/retention_volume'+project+'.png')"
   ]
  },
  {
   "cell_type": "code",
   "execution_count": null,
   "metadata": {},
   "outputs": [],
   "source": []
  },
  {
   "cell_type": "code",
   "execution_count": null,
   "metadata": {},
   "outputs": [],
   "source": []
  }
 ],
 "metadata": {
  "kernelspec": {
   "display_name": "Python 3.10.5 64-bit",
   "language": "python",
   "name": "python3"
  },
  "language_info": {
   "codemirror_mode": {
    "name": "ipython",
    "version": 3
   },
   "file_extension": ".py",
   "mimetype": "text/x-python",
   "name": "python",
   "nbconvert_exporter": "python",
   "pygments_lexer": "ipython3",
   "version": "3.10.5"
  },
  "orig_nbformat": 4,
  "vscode": {
   "interpreter": {
    "hash": "aee8b7b246df8f9039afb4144a1f6fd8d2ca17a180786b69acc140d282b71a49"
   }
  }
 },
 "nbformat": 4,
 "nbformat_minor": 2
}
